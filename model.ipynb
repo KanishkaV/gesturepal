{
 "cells": [
  {
   "cell_type": "code",
   "execution_count": null,
   "id": "49761661-7372-476a-bd60-fc79735305fa",
   "metadata": {},
   "outputs": [],
   "source": [
    "Install Dependancies"
   ]
  },
  {
   "cell_type": "code",
   "execution_count": 2,
   "id": "e0d9cb8d-0e50-4938-9db1-1e0be680cea1",
   "metadata": {
    "scrolled": true
   },
   "outputs": [
    {
     "name": "stdout",
     "output_type": "stream",
     "text": [
      "Requirement already satisfied: tensorflow in ./env/lib/python3.11/site-packages (2.14.0)\n",
      "Requirement already satisfied: opencv-python in ./env/lib/python3.11/site-packages (4.8.1.78)\n",
      "Requirement already satisfied: mediapipe in ./env/lib/python3.11/site-packages (0.10.5)\n",
      "Requirement already satisfied: scikit-learn in ./env/lib/python3.11/site-packages (1.3.1)\n",
      "Requirement already satisfied: matplotlib in ./env/lib/python3.11/site-packages (3.8.0)\n",
      "Requirement already satisfied: absl-py>=1.0.0 in ./env/lib/python3.11/site-packages (from tensorflow) (2.0.0)\n",
      "Requirement already satisfied: astunparse>=1.6.0 in ./env/lib/python3.11/site-packages (from tensorflow) (1.6.3)\n",
      "Requirement already satisfied: flatbuffers>=23.5.26 in ./env/lib/python3.11/site-packages (from tensorflow) (23.5.26)\n",
      "Requirement already satisfied: gast!=0.5.0,!=0.5.1,!=0.5.2,>=0.2.1 in ./env/lib/python3.11/site-packages (from tensorflow) (0.5.4)\n",
      "Requirement already satisfied: google-pasta>=0.1.1 in ./env/lib/python3.11/site-packages (from tensorflow) (0.2.0)\n",
      "Requirement already satisfied: h5py>=2.9.0 in ./env/lib/python3.11/site-packages (from tensorflow) (3.9.0)\n",
      "Requirement already satisfied: libclang>=13.0.0 in ./env/lib/python3.11/site-packages (from tensorflow) (16.0.6)\n",
      "Requirement already satisfied: ml-dtypes==0.2.0 in ./env/lib/python3.11/site-packages (from tensorflow) (0.2.0)\n",
      "Requirement already satisfied: numpy>=1.23.5 in ./env/lib/python3.11/site-packages (from tensorflow) (1.26.0)\n",
      "Requirement already satisfied: opt-einsum>=2.3.2 in ./env/lib/python3.11/site-packages (from tensorflow) (3.3.0)\n",
      "Requirement already satisfied: packaging in ./env/lib/python3.11/site-packages (from tensorflow) (23.2)\n",
      "Requirement already satisfied: protobuf!=4.21.0,!=4.21.1,!=4.21.2,!=4.21.3,!=4.21.4,!=4.21.5,<5.0.0dev,>=3.20.3 in ./env/lib/python3.11/site-packages (from tensorflow) (3.20.3)\n",
      "Requirement already satisfied: setuptools in ./env/lib/python3.11/site-packages (from tensorflow) (65.5.0)\n",
      "Requirement already satisfied: six>=1.12.0 in ./env/lib/python3.11/site-packages (from tensorflow) (1.16.0)\n",
      "Requirement already satisfied: termcolor>=1.1.0 in ./env/lib/python3.11/site-packages (from tensorflow) (2.3.0)\n",
      "Requirement already satisfied: typing-extensions>=3.6.6 in ./env/lib/python3.11/site-packages (from tensorflow) (4.8.0)\n",
      "Requirement already satisfied: wrapt<1.15,>=1.11.0 in ./env/lib/python3.11/site-packages (from tensorflow) (1.14.1)\n",
      "Requirement already satisfied: tensorflow-io-gcs-filesystem>=0.23.1 in ./env/lib/python3.11/site-packages (from tensorflow) (0.34.0)\n",
      "Requirement already satisfied: grpcio<2.0,>=1.24.3 in ./env/lib/python3.11/site-packages (from tensorflow) (1.59.0)\n",
      "Requirement already satisfied: tensorboard<2.15,>=2.14 in ./env/lib/python3.11/site-packages (from tensorflow) (2.14.1)\n",
      "Requirement already satisfied: tensorflow-estimator<2.15,>=2.14.0 in ./env/lib/python3.11/site-packages (from tensorflow) (2.14.0)\n",
      "Requirement already satisfied: keras<2.15,>=2.14.0 in ./env/lib/python3.11/site-packages (from tensorflow) (2.14.0)\n",
      "Requirement already satisfied: attrs>=19.1.0 in ./env/lib/python3.11/site-packages (from mediapipe) (23.1.0)\n",
      "Requirement already satisfied: opencv-contrib-python in ./env/lib/python3.11/site-packages (from mediapipe) (4.8.1.78)\n",
      "Requirement already satisfied: sounddevice>=0.4.4 in ./env/lib/python3.11/site-packages (from mediapipe) (0.4.6)\n",
      "Requirement already satisfied: scipy>=1.5.0 in ./env/lib/python3.11/site-packages (from scikit-learn) (1.11.3)\n",
      "Requirement already satisfied: joblib>=1.1.1 in ./env/lib/python3.11/site-packages (from scikit-learn) (1.3.2)\n",
      "Requirement already satisfied: threadpoolctl>=2.0.0 in ./env/lib/python3.11/site-packages (from scikit-learn) (3.2.0)\n",
      "Requirement already satisfied: contourpy>=1.0.1 in ./env/lib/python3.11/site-packages (from matplotlib) (1.1.1)\n",
      "Requirement already satisfied: cycler>=0.10 in ./env/lib/python3.11/site-packages (from matplotlib) (0.12.0)\n",
      "Requirement already satisfied: fonttools>=4.22.0 in ./env/lib/python3.11/site-packages (from matplotlib) (4.43.0)\n",
      "Requirement already satisfied: kiwisolver>=1.0.1 in ./env/lib/python3.11/site-packages (from matplotlib) (1.4.5)\n",
      "Requirement already satisfied: pillow>=6.2.0 in ./env/lib/python3.11/site-packages (from matplotlib) (10.0.1)\n",
      "Requirement already satisfied: pyparsing>=2.3.1 in ./env/lib/python3.11/site-packages (from matplotlib) (3.1.1)\n",
      "Requirement already satisfied: python-dateutil>=2.7 in ./env/lib/python3.11/site-packages (from matplotlib) (2.8.2)\n",
      "Requirement already satisfied: wheel<1.0,>=0.23.0 in ./env/lib/python3.11/site-packages (from astunparse>=1.6.0->tensorflow) (0.41.2)\n",
      "Requirement already satisfied: CFFI>=1.0 in ./env/lib/python3.11/site-packages (from sounddevice>=0.4.4->mediapipe) (1.16.0)\n",
      "Requirement already satisfied: google-auth<3,>=1.6.3 in ./env/lib/python3.11/site-packages (from tensorboard<2.15,>=2.14->tensorflow) (2.23.2)\n",
      "Requirement already satisfied: google-auth-oauthlib<1.1,>=0.5 in ./env/lib/python3.11/site-packages (from tensorboard<2.15,>=2.14->tensorflow) (1.0.0)\n",
      "Requirement already satisfied: markdown>=2.6.8 in ./env/lib/python3.11/site-packages (from tensorboard<2.15,>=2.14->tensorflow) (3.4.4)\n",
      "Requirement already satisfied: requests<3,>=2.21.0 in ./env/lib/python3.11/site-packages (from tensorboard<2.15,>=2.14->tensorflow) (2.31.0)\n",
      "Requirement already satisfied: tensorboard-data-server<0.8.0,>=0.7.0 in ./env/lib/python3.11/site-packages (from tensorboard<2.15,>=2.14->tensorflow) (0.7.1)\n",
      "Requirement already satisfied: werkzeug>=1.0.1 in ./env/lib/python3.11/site-packages (from tensorboard<2.15,>=2.14->tensorflow) (3.0.0)\n",
      "Requirement already satisfied: pycparser in ./env/lib/python3.11/site-packages (from CFFI>=1.0->sounddevice>=0.4.4->mediapipe) (2.21)\n",
      "Requirement already satisfied: cachetools<6.0,>=2.0.0 in ./env/lib/python3.11/site-packages (from google-auth<3,>=1.6.3->tensorboard<2.15,>=2.14->tensorflow) (5.3.1)\n",
      "Requirement already satisfied: pyasn1-modules>=0.2.1 in ./env/lib/python3.11/site-packages (from google-auth<3,>=1.6.3->tensorboard<2.15,>=2.14->tensorflow) (0.3.0)\n",
      "Requirement already satisfied: rsa<5,>=3.1.4 in ./env/lib/python3.11/site-packages (from google-auth<3,>=1.6.3->tensorboard<2.15,>=2.14->tensorflow) (4.9)\n",
      "Requirement already satisfied: requests-oauthlib>=0.7.0 in ./env/lib/python3.11/site-packages (from google-auth-oauthlib<1.1,>=0.5->tensorboard<2.15,>=2.14->tensorflow) (1.3.1)\n",
      "Requirement already satisfied: charset-normalizer<4,>=2 in ./env/lib/python3.11/site-packages (from requests<3,>=2.21.0->tensorboard<2.15,>=2.14->tensorflow) (3.3.0)\n",
      "Requirement already satisfied: idna<4,>=2.5 in ./env/lib/python3.11/site-packages (from requests<3,>=2.21.0->tensorboard<2.15,>=2.14->tensorflow) (3.4)\n",
      "Requirement already satisfied: urllib3<3,>=1.21.1 in ./env/lib/python3.11/site-packages (from requests<3,>=2.21.0->tensorboard<2.15,>=2.14->tensorflow) (2.0.6)\n",
      "Requirement already satisfied: certifi>=2017.4.17 in ./env/lib/python3.11/site-packages (from requests<3,>=2.21.0->tensorboard<2.15,>=2.14->tensorflow) (2023.7.22)\n",
      "Requirement already satisfied: MarkupSafe>=2.1.1 in ./env/lib/python3.11/site-packages (from werkzeug>=1.0.1->tensorboard<2.15,>=2.14->tensorflow) (2.1.3)\n",
      "Requirement already satisfied: pyasn1<0.6.0,>=0.4.6 in ./env/lib/python3.11/site-packages (from pyasn1-modules>=0.2.1->google-auth<3,>=1.6.3->tensorboard<2.15,>=2.14->tensorflow) (0.5.0)\n",
      "Requirement already satisfied: oauthlib>=3.0.0 in ./env/lib/python3.11/site-packages (from requests-oauthlib>=0.7.0->google-auth-oauthlib<1.1,>=0.5->tensorboard<2.15,>=2.14->tensorflow) (3.2.2)\n",
      "Note: you may need to restart the kernel to use updated packages.\n"
     ]
    }
   ],
   "source": [
    "pip install tensorflow opencv-python mediapipe scikit-learn matplotlib"
   ]
  },
  {
   "cell_type": "markdown",
   "id": "86e06672",
   "metadata": {},
   "source": [
    "Imports Dependencies"
   ]
  },
  {
   "cell_type": "code",
   "execution_count": 67,
   "id": "577a8a66",
   "metadata": {
    "scrolled": true
   },
   "outputs": [],
   "source": [
    "import cv2\n",
    "import numpy as np\n",
    "import os\n",
    "from matplotlib import pyplot as plt\n",
    "import time\n",
    "import mediapipe as mp\n",
    "import json\n",
    "from sklearn.model_selection import train_test_split\n",
    "from tensorflow.keras.utils import to_categorical\n",
    "from tensorflow.keras.models import Sequential\n",
    "from tensorflow.keras.layers import LSTM,Dense,Dropout\n",
    "from tensorflow.keras.callbacks import TensorBoard"
   ]
  },
  {
   "cell_type": "markdown",
   "id": "d7047823",
   "metadata": {},
   "source": [
    "Setup folders for collection"
   ]
  },
  {
   "cell_type": "code",
   "execution_count": 2,
   "id": "fdc957fd-bbd0-4a21-90cd-a20b7ac40491",
   "metadata": {},
   "outputs": [],
   "source": [
    "def get_directories(path):\n",
    "    return [d for d in os.listdir(path) if os.path.isdir(os.path.join(path, d))]"
   ]
  },
  {
   "cell_type": "code",
   "execution_count": 3,
   "id": "b00be85c",
   "metadata": {},
   "outputs": [
    {
     "name": "stdout",
     "output_type": "stream",
     "text": [
      "['grab' 'stretch' 'swipe-down' 'swipe-left' 'swipe-right']\n"
     ]
    }
   ],
   "source": [
    "\n",
    "PROJECT_PATH=\"/mnt/Projects/Studies/projects/Class/Final\"\n",
    "gestures = np.array(get_directories(f\"{PROJECT_PATH}/gesture/\"))\n",
    "print(gestures)\n"
   ]
  },
  {
   "cell_type": "code",
   "execution_count": 4,
   "id": "3723aaa0",
   "metadata": {},
   "outputs": [],
   "source": []
  },
  {
   "cell_type": "code",
   "execution_count": 5,
   "id": "a7eae05e-e005-4069-9e56-a5477bb30d32",
   "metadata": {},
   "outputs": [],
   "source": [
    "def read_json(path):\n",
    "    with open(path, 'r') as file:\n",
    "        return json.load(file)"
   ]
  },
  {
   "cell_type": "code",
   "execution_count": 6,
   "id": "06d1c6bb-47de-4216-9b40-20db1aa3e945",
   "metadata": {},
   "outputs": [
    {
     "name": "stdout",
     "output_type": "stream",
     "text": [
      "['swipe-right', 'swipe-left', 'stretch', 'swipe-down', 'grab']\n"
     ]
    }
   ],
   "source": [
    "gesture_list=read_json(f\"{PROJECT_PATH}/config/gesture.json\")\n",
    "gestures=np.array(gesture_list)\n",
    "print(gesture_list)"
   ]
  },
  {
   "cell_type": "code",
   "execution_count": 12,
   "id": "7fe3d40e-c59d-4da5-9799-9f6a84d11629",
   "metadata": {},
   "outputs": [],
   "source": [
    "\n",
    "def get_data(path):\n",
    "    #print(path)\n",
    "    data=read_json(path)  \n",
    "    ar=[]\n",
    "    for i in range(24):\n",
    "        d=data[i]\n",
    "        ar.append(np.array(d))\n",
    "    return np.array(ar)\n"
   ]
  },
  {
   "cell_type": "code",
   "execution_count": 8,
   "id": "6c674ea3-ae70-4321-b12b-52a3dac17e2c",
   "metadata": {},
   "outputs": [],
   "source": [
    "def get_file_list(path):\n",
    "    return os.listdir(path)"
   ]
  },
  {
   "cell_type": "code",
   "execution_count": 13,
   "id": "60f74e34",
   "metadata": {},
   "outputs": [],
   "source": [
    "features,labels=[],[]\n",
    "for gesture in gestures:\n",
    "    gesture_path=f\"{PROJECT_PATH}/gesture/{gesture}\"\n",
    "    list=get_file_list(gesture_path)\n",
    "    #print(list)\n",
    "    for file in list:\n",
    "        cd=get_data(f\"{gesture_path}/{file}\")\n",
    "        if cd is not None:\n",
    "            features.append(cd)\n",
    "            labels.append(gesture)\n",
    "features=np.array(features)"
   ]
  },
  {
   "cell_type": "code",
   "execution_count": 14,
   "id": "91e2f4c6-6b96-4ebc-a533-6daad2f812c0",
   "metadata": {},
   "outputs": [
    {
     "name": "stdout",
     "output_type": "stream",
     "text": [
      "(151, 24, 126)\n"
     ]
    }
   ],
   "source": [
    "print(features.shape)\n"
   ]
  },
  {
   "cell_type": "code",
   "execution_count": 15,
   "id": "a31f59fd-9aa3-4527-96c9-60d7c04e450b",
   "metadata": {},
   "outputs": [
    {
     "data": {
      "text/plain": [
       "['swipe-right',\n",
       " 'swipe-right',\n",
       " 'swipe-right',\n",
       " 'swipe-right',\n",
       " 'swipe-right',\n",
       " 'swipe-right',\n",
       " 'swipe-right',\n",
       " 'swipe-right',\n",
       " 'swipe-right',\n",
       " 'swipe-right',\n",
       " 'swipe-right',\n",
       " 'swipe-right',\n",
       " 'swipe-right',\n",
       " 'swipe-right',\n",
       " 'swipe-right',\n",
       " 'swipe-right',\n",
       " 'swipe-right',\n",
       " 'swipe-right',\n",
       " 'swipe-right',\n",
       " 'swipe-right',\n",
       " 'swipe-right',\n",
       " 'swipe-right',\n",
       " 'swipe-right',\n",
       " 'swipe-right',\n",
       " 'swipe-right',\n",
       " 'swipe-right',\n",
       " 'swipe-right',\n",
       " 'swipe-right',\n",
       " 'swipe-right',\n",
       " 'swipe-right',\n",
       " 'swipe-left',\n",
       " 'swipe-left',\n",
       " 'swipe-left',\n",
       " 'swipe-left',\n",
       " 'swipe-left',\n",
       " 'swipe-left',\n",
       " 'swipe-left',\n",
       " 'swipe-left',\n",
       " 'swipe-left',\n",
       " 'swipe-left',\n",
       " 'swipe-left',\n",
       " 'swipe-left',\n",
       " 'swipe-left',\n",
       " 'swipe-left',\n",
       " 'swipe-left',\n",
       " 'swipe-left',\n",
       " 'swipe-left',\n",
       " 'swipe-left',\n",
       " 'swipe-left',\n",
       " 'swipe-left',\n",
       " 'swipe-left',\n",
       " 'swipe-left',\n",
       " 'swipe-left',\n",
       " 'swipe-left',\n",
       " 'swipe-left',\n",
       " 'swipe-left',\n",
       " 'swipe-left',\n",
       " 'swipe-left',\n",
       " 'swipe-left',\n",
       " 'swipe-left',\n",
       " 'swipe-left',\n",
       " 'stretch',\n",
       " 'stretch',\n",
       " 'stretch',\n",
       " 'stretch',\n",
       " 'stretch',\n",
       " 'stretch',\n",
       " 'stretch',\n",
       " 'stretch',\n",
       " 'stretch',\n",
       " 'stretch',\n",
       " 'stretch',\n",
       " 'stretch',\n",
       " 'stretch',\n",
       " 'stretch',\n",
       " 'stretch',\n",
       " 'stretch',\n",
       " 'stretch',\n",
       " 'stretch',\n",
       " 'stretch',\n",
       " 'stretch',\n",
       " 'stretch',\n",
       " 'stretch',\n",
       " 'stretch',\n",
       " 'stretch',\n",
       " 'stretch',\n",
       " 'stretch',\n",
       " 'stretch',\n",
       " 'stretch',\n",
       " 'stretch',\n",
       " 'stretch',\n",
       " 'swipe-down',\n",
       " 'swipe-down',\n",
       " 'swipe-down',\n",
       " 'swipe-down',\n",
       " 'swipe-down',\n",
       " 'swipe-down',\n",
       " 'swipe-down',\n",
       " 'swipe-down',\n",
       " 'swipe-down',\n",
       " 'swipe-down',\n",
       " 'swipe-down',\n",
       " 'swipe-down',\n",
       " 'swipe-down',\n",
       " 'swipe-down',\n",
       " 'swipe-down',\n",
       " 'swipe-down',\n",
       " 'swipe-down',\n",
       " 'swipe-down',\n",
       " 'swipe-down',\n",
       " 'swipe-down',\n",
       " 'swipe-down',\n",
       " 'swipe-down',\n",
       " 'swipe-down',\n",
       " 'swipe-down',\n",
       " 'swipe-down',\n",
       " 'swipe-down',\n",
       " 'swipe-down',\n",
       " 'swipe-down',\n",
       " 'swipe-down',\n",
       " 'swipe-down',\n",
       " 'grab',\n",
       " 'grab',\n",
       " 'grab',\n",
       " 'grab',\n",
       " 'grab',\n",
       " 'grab',\n",
       " 'grab',\n",
       " 'grab',\n",
       " 'grab',\n",
       " 'grab',\n",
       " 'grab',\n",
       " 'grab',\n",
       " 'grab',\n",
       " 'grab',\n",
       " 'grab',\n",
       " 'grab',\n",
       " 'grab',\n",
       " 'grab',\n",
       " 'grab',\n",
       " 'grab',\n",
       " 'grab',\n",
       " 'grab',\n",
       " 'grab',\n",
       " 'grab',\n",
       " 'grab',\n",
       " 'grab',\n",
       " 'grab',\n",
       " 'grab',\n",
       " 'grab',\n",
       " 'grab']"
      ]
     },
     "execution_count": 15,
     "metadata": {},
     "output_type": "execute_result"
    }
   ],
   "source": [
    "labels"
   ]
  },
  {
   "cell_type": "code",
   "execution_count": 16,
   "id": "1201660f",
   "metadata": {},
   "outputs": [
    {
     "data": {
      "text/plain": [
       "array([[ 0.        ,  0.        ,  0.        , ...,  0.83733767,\n",
       "         0.28695962, -0.0160951 ],\n",
       "       [ 0.        ,  0.        ,  0.        , ...,  0.83713847,\n",
       "         0.28682205, -0.01816973],\n",
       "       [ 0.        ,  0.        ,  0.        , ...,  0.83583772,\n",
       "         0.28647894, -0.01257053],\n",
       "       ...,\n",
       "       [ 0.        ,  0.        ,  0.        , ...,  0.44845214,\n",
       "         0.27573317, -0.02922808],\n",
       "       [ 0.        ,  0.        ,  0.        , ...,  0.44442374,\n",
       "         0.27517408, -0.02669681],\n",
       "       [ 0.        ,  0.        ,  0.        , ...,  0.43344864,\n",
       "         0.27697465, -0.02600858]])"
      ]
     },
     "execution_count": 16,
     "metadata": {},
     "output_type": "execute_result"
    }
   ],
   "source": [
    "np.array(features)[0]"
   ]
  },
  {
   "cell_type": "code",
   "execution_count": 17,
   "id": "fddd376e-3664-4926-8a30-1ad3d32c3052",
   "metadata": {},
   "outputs": [
    {
     "data": {
      "text/plain": [
       "151"
      ]
     },
     "execution_count": 17,
     "metadata": {},
     "output_type": "execute_result"
    }
   ],
   "source": [
    "len(features)"
   ]
  },
  {
   "cell_type": "code",
   "execution_count": 18,
   "id": "8b0e9636-f51b-4a0c-905e-9879dddf9369",
   "metadata": {},
   "outputs": [
    {
     "data": {
      "text/plain": [
       "151"
      ]
     },
     "execution_count": 18,
     "metadata": {},
     "output_type": "execute_result"
    }
   ],
   "source": [
    "len(labels)"
   ]
  },
  {
   "cell_type": "code",
   "execution_count": 19,
   "id": "c317d88d-ecd7-47a4-9340-e1ec04619f39",
   "metadata": {},
   "outputs": [
    {
     "name": "stdout",
     "output_type": "stream",
     "text": [
      "[0 0 0 0 0 0 0 0 0 0 0 0 0 0 0 0 0 0 0 0 0 0 0 0 0 0 0 0 0 0 1 1 1 1 1 1 1\n",
      " 1 1 1 1 1 1 1 1 1 1 1 1 1 1 1 1 1 1 1 1 1 1 1 1 2 2 2 2 2 2 2 2 2 2 2 2 2\n",
      " 2 2 2 2 2 2 2 2 2 2 2 2 2 2 2 2 2 3 3 3 3 3 3 3 3 3 3 3 3 3 3 3 3 3 3 3 3\n",
      " 3 3 3 3 3 3 3 3 3 3 4 4 4 4 4 4 4 4 4 4 4 4 4 4 4 4 4 4 4 4 4 4 4 4 4 4 4\n",
      " 4 4 4]\n"
     ]
    }
   ],
   "source": [
    "int_labels=[]\n",
    "for gesture in labels:\n",
    "    try:\n",
    "        int_labels.append(gesture_list.index(gesture))\n",
    "    except:\n",
    "        print(f\"{gesture} is not in list\")\n",
    "int_labels=np.array(int_labels)\n",
    "print(int_labels)"
   ]
  },
  {
   "cell_type": "code",
   "execution_count": null,
   "id": "e9ed89b3",
   "metadata": {},
   "outputs": [],
   "source": []
  },
  {
   "cell_type": "code",
   "execution_count": null,
   "id": "6f6b1733",
   "metadata": {},
   "outputs": [],
   "source": []
  },
  {
   "cell_type": "code",
   "execution_count": 20,
   "id": "43fd29d4",
   "metadata": {},
   "outputs": [],
   "source": [
    "y=to_categorical(int_labels).astype(int)"
   ]
  },
  {
   "cell_type": "code",
   "execution_count": 21,
   "id": "bdb2afaa",
   "metadata": {},
   "outputs": [
    {
     "data": {
      "text/plain": [
       "(151, 5)"
      ]
     },
     "execution_count": 21,
     "metadata": {},
     "output_type": "execute_result"
    }
   ],
   "source": [
    "y.shape"
   ]
  },
  {
   "cell_type": "code",
   "execution_count": 22,
   "id": "be605476",
   "metadata": {},
   "outputs": [],
   "source": [
    "x_train,x_test,y_train,y_test=train_test_split(features,y,test_size=0.2)"
   ]
  },
  {
   "cell_type": "code",
   "execution_count": 23,
   "id": "f0569993",
   "metadata": {},
   "outputs": [
    {
     "data": {
      "text/plain": [
       "(120, 24, 126)"
      ]
     },
     "execution_count": 23,
     "metadata": {},
     "output_type": "execute_result"
    }
   ],
   "source": [
    "x_train.shape"
   ]
  },
  {
   "cell_type": "code",
   "execution_count": 24,
   "id": "0cecec3f",
   "metadata": {},
   "outputs": [
    {
     "data": {
      "text/plain": [
       "(120, 5)"
      ]
     },
     "execution_count": 24,
     "metadata": {},
     "output_type": "execute_result"
    }
   ],
   "source": [
    "y_train.shape"
   ]
  },
  {
   "cell_type": "code",
   "execution_count": 25,
   "id": "8d48fdb7",
   "metadata": {},
   "outputs": [
    {
     "data": {
      "text/plain": [
       "((31, 24, 126), (31, 5))"
      ]
     },
     "execution_count": 25,
     "metadata": {},
     "output_type": "execute_result"
    }
   ],
   "source": [
    "x_test.shape,y_test.shape"
   ]
  },
  {
   "cell_type": "code",
   "execution_count": 27,
   "id": "529d0e58",
   "metadata": {},
   "outputs": [
    {
     "name": "stderr",
     "output_type": "stream",
     "text": [
      "2023-10-15 17:54:48.290660: I tensorflow/compiler/xla/stream_executor/cuda/cuda_gpu_executor.cc:894] successful NUMA node read from SysFS had negative value (-1), but there must be at least one NUMA node, so returning NUMA node zero. See more at https://github.com/torvalds/linux/blob/v6.0/Documentation/ABI/testing/sysfs-bus-pci#L344-L355\n",
      "2023-10-15 17:54:48.344649: W tensorflow/core/common_runtime/gpu/gpu_device.cc:2211] Cannot dlopen some GPU libraries. Please make sure the missing libraries mentioned above are installed properly if you would like to use GPU. Follow the guide at https://www.tensorflow.org/install/gpu for how to download and setup the required libraries for your platform.\n",
      "Skipping registering GPU devices...\n"
     ]
    }
   ],
   "source": [
    "model = Sequential()\n",
    "# RNN layer\n",
    "model.add(LSTM(units = 128, input_shape = (x_train.shape[1], x_train.shape[2])))\n",
    "# Dropout layer\n",
    "model.add(Dropout(0.5)) \n",
    "# Dense layer with ReLu\n",
    "model.add(Dense(units = 64, activation='relu'))\n",
    "# Softmax layer\n",
    "model.add(Dense(y_train.shape[1], activation = 'softmax'))\n",
    "# Compile model\n",
    "model.compile(loss='categorical_crossentropy', optimizer='adam', metrics=['accuracy'])"
   ]
  },
  {
   "cell_type": "code",
   "execution_count": 28,
   "id": "fc1ba586",
   "metadata": {},
   "outputs": [
    {
     "name": "stdout",
     "output_type": "stream",
     "text": [
      "5\n",
      "5\n"
     ]
    }
   ],
   "source": [
    "print(y_train.shape[1])\n",
    "print(gestures.shape[0])"
   ]
  },
  {
   "cell_type": "code",
   "execution_count": 29,
   "id": "784b3a47",
   "metadata": {},
   "outputs": [
    {
     "data": {
      "text/plain": [
       "126"
      ]
     },
     "execution_count": 29,
     "metadata": {},
     "output_type": "execute_result"
    }
   ],
   "source": [
    "x_train.shape[2]"
   ]
  },
  {
   "cell_type": "code",
   "execution_count": 30,
   "id": "efdef2be",
   "metadata": {
    "scrolled": true
   },
   "outputs": [
    {
     "name": "stdout",
     "output_type": "stream",
     "text": [
      "Epoch 1/500\n",
      "4/4 [==============================] - 4s 31ms/step - loss: 1.5400 - accuracy: 0.3417\n",
      "Epoch 2/500\n",
      "4/4 [==============================] - 0s 34ms/step - loss: 1.2167 - accuracy: 0.6000\n",
      "Epoch 3/500\n",
      "4/4 [==============================] - 0s 52ms/step - loss: 1.0346 - accuracy: 0.5667\n",
      "Epoch 4/500\n",
      "4/4 [==============================] - 0s 35ms/step - loss: 0.8841 - accuracy: 0.6167\n",
      "Epoch 5/500\n",
      "4/4 [==============================] - 0s 32ms/step - loss: 0.7645 - accuracy: 0.6833\n",
      "Epoch 6/500\n",
      "4/4 [==============================] - 0s 43ms/step - loss: 0.6532 - accuracy: 0.7333\n",
      "Epoch 7/500\n",
      "4/4 [==============================] - 0s 47ms/step - loss: 0.5608 - accuracy: 0.8250\n",
      "Epoch 8/500\n",
      "4/4 [==============================] - 0s 44ms/step - loss: 0.4885 - accuracy: 0.8833\n",
      "Epoch 9/500\n",
      "4/4 [==============================] - 0s 36ms/step - loss: 0.4060 - accuracy: 0.9167\n",
      "Epoch 10/500\n",
      "4/4 [==============================] - 0s 46ms/step - loss: 0.2693 - accuracy: 0.9583\n",
      "Epoch 11/500\n",
      "4/4 [==============================] - 0s 33ms/step - loss: 0.1487 - accuracy: 0.9917\n",
      "Epoch 12/500\n",
      "4/4 [==============================] - 0s 30ms/step - loss: 0.0740 - accuracy: 1.0000\n",
      "Epoch 13/500\n",
      "4/4 [==============================] - 0s 47ms/step - loss: 0.0414 - accuracy: 1.0000\n",
      "Epoch 14/500\n",
      "4/4 [==============================] - 0s 41ms/step - loss: 0.0258 - accuracy: 1.0000\n",
      "Epoch 15/500\n",
      "4/4 [==============================] - 0s 48ms/step - loss: 0.0170 - accuracy: 1.0000\n",
      "Epoch 16/500\n",
      "4/4 [==============================] - 0s 39ms/step - loss: 0.0101 - accuracy: 1.0000\n",
      "Epoch 17/500\n",
      "4/4 [==============================] - 0s 34ms/step - loss: 0.0070 - accuracy: 1.0000\n",
      "Epoch 18/500\n",
      "4/4 [==============================] - 0s 30ms/step - loss: 0.0082 - accuracy: 1.0000\n",
      "Epoch 19/500\n",
      "4/4 [==============================] - 0s 34ms/step - loss: 0.0058 - accuracy: 1.0000\n",
      "Epoch 20/500\n",
      "4/4 [==============================] - 0s 55ms/step - loss: 0.0041 - accuracy: 1.0000\n",
      "Epoch 21/500\n",
      "4/4 [==============================] - 0s 35ms/step - loss: 0.0042 - accuracy: 1.0000\n",
      "Epoch 22/500\n",
      "4/4 [==============================] - 0s 37ms/step - loss: 0.0028 - accuracy: 1.0000\n",
      "Epoch 23/500\n",
      "4/4 [==============================] - 0s 27ms/step - loss: 0.0029 - accuracy: 1.0000\n",
      "Epoch 24/500\n",
      "4/4 [==============================] - 0s 29ms/step - loss: 0.0021 - accuracy: 1.0000\n",
      "Epoch 25/500\n",
      "4/4 [==============================] - 0s 28ms/step - loss: 0.0020 - accuracy: 1.0000\n",
      "Epoch 26/500\n",
      "4/4 [==============================] - 0s 29ms/step - loss: 0.0023 - accuracy: 1.0000\n",
      "Epoch 27/500\n",
      "4/4 [==============================] - 0s 32ms/step - loss: 0.0017 - accuracy: 1.0000\n",
      "Epoch 28/500\n",
      "4/4 [==============================] - 0s 28ms/step - loss: 0.0022 - accuracy: 1.0000\n",
      "Epoch 29/500\n",
      "4/4 [==============================] - 0s 31ms/step - loss: 0.0025 - accuracy: 1.0000\n",
      "Epoch 30/500\n",
      "4/4 [==============================] - 0s 26ms/step - loss: 0.0017 - accuracy: 1.0000\n",
      "Epoch 31/500\n",
      "4/4 [==============================] - 0s 28ms/step - loss: 0.0022 - accuracy: 1.0000\n",
      "Epoch 32/500\n",
      "4/4 [==============================] - 0s 27ms/step - loss: 0.0025 - accuracy: 1.0000\n",
      "Epoch 33/500\n",
      "4/4 [==============================] - 0s 26ms/step - loss: 0.0013 - accuracy: 1.0000\n",
      "Epoch 34/500\n",
      "4/4 [==============================] - 0s 29ms/step - loss: 0.0020 - accuracy: 1.0000\n",
      "Epoch 35/500\n",
      "4/4 [==============================] - 0s 30ms/step - loss: 0.0015 - accuracy: 1.0000\n",
      "Epoch 36/500\n",
      "4/4 [==============================] - 0s 28ms/step - loss: 0.0017 - accuracy: 1.0000\n",
      "Epoch 37/500\n",
      "4/4 [==============================] - 0s 29ms/step - loss: 0.0012 - accuracy: 1.0000\n",
      "Epoch 38/500\n",
      "4/4 [==============================] - 0s 29ms/step - loss: 0.0012 - accuracy: 1.0000\n",
      "Epoch 39/500\n",
      "4/4 [==============================] - 0s 29ms/step - loss: 0.0015 - accuracy: 1.0000\n",
      "Epoch 40/500\n",
      "4/4 [==============================] - 0s 29ms/step - loss: 0.0016 - accuracy: 1.0000\n",
      "Epoch 41/500\n",
      "4/4 [==============================] - 0s 28ms/step - loss: 0.0011 - accuracy: 1.0000\n",
      "Epoch 42/500\n",
      "4/4 [==============================] - 0s 33ms/step - loss: 7.5388e-04 - accuracy: 1.0000\n",
      "Epoch 43/500\n",
      "4/4 [==============================] - 0s 30ms/step - loss: 0.0013 - accuracy: 1.0000\n",
      "Epoch 44/500\n",
      "4/4 [==============================] - 0s 29ms/step - loss: 9.5177e-04 - accuracy: 1.0000\n",
      "Epoch 45/500\n",
      "4/4 [==============================] - 0s 29ms/step - loss: 0.0011 - accuracy: 1.0000\n",
      "Epoch 46/500\n",
      "4/4 [==============================] - 0s 28ms/step - loss: 9.6571e-04 - accuracy: 1.0000\n",
      "Epoch 47/500\n",
      "4/4 [==============================] - 0s 29ms/step - loss: 0.0015 - accuracy: 1.0000\n",
      "Epoch 48/500\n",
      "4/4 [==============================] - 0s 30ms/step - loss: 9.7542e-04 - accuracy: 1.0000\n",
      "Epoch 49/500\n",
      "4/4 [==============================] - 0s 31ms/step - loss: 9.5948e-04 - accuracy: 1.0000\n",
      "Epoch 50/500\n",
      "4/4 [==============================] - 0s 28ms/step - loss: 8.8326e-04 - accuracy: 1.0000\n",
      "Epoch 51/500\n",
      "4/4 [==============================] - 0s 27ms/step - loss: 0.0010 - accuracy: 1.0000\n",
      "Epoch 52/500\n",
      "4/4 [==============================] - 0s 35ms/step - loss: 6.8617e-04 - accuracy: 1.0000\n",
      "Epoch 53/500\n",
      "4/4 [==============================] - 0s 27ms/step - loss: 6.7228e-04 - accuracy: 1.0000\n",
      "Epoch 54/500\n",
      "4/4 [==============================] - 0s 29ms/step - loss: 7.5715e-04 - accuracy: 1.0000\n",
      "Epoch 55/500\n",
      "4/4 [==============================] - 0s 29ms/step - loss: 8.9678e-04 - accuracy: 1.0000\n",
      "Epoch 56/500\n",
      "4/4 [==============================] - 0s 48ms/step - loss: 6.4966e-04 - accuracy: 1.0000\n",
      "Epoch 57/500\n",
      "4/4 [==============================] - 0s 31ms/step - loss: 8.3621e-04 - accuracy: 1.0000\n",
      "Epoch 58/500\n",
      "4/4 [==============================] - 0s 29ms/step - loss: 7.0790e-04 - accuracy: 1.0000\n",
      "Epoch 59/500\n",
      "4/4 [==============================] - 0s 36ms/step - loss: 5.5532e-04 - accuracy: 1.0000\n",
      "Epoch 60/500\n",
      "4/4 [==============================] - 0s 27ms/step - loss: 6.1858e-04 - accuracy: 1.0000\n",
      "Epoch 61/500\n",
      "4/4 [==============================] - 0s 30ms/step - loss: 6.4736e-04 - accuracy: 1.0000\n",
      "Epoch 62/500\n",
      "4/4 [==============================] - 0s 31ms/step - loss: 7.9632e-04 - accuracy: 1.0000\n",
      "Epoch 63/500\n",
      "4/4 [==============================] - 0s 28ms/step - loss: 7.8505e-04 - accuracy: 1.0000\n",
      "Epoch 64/500\n",
      "4/4 [==============================] - 0s 30ms/step - loss: 0.0011 - accuracy: 1.0000\n",
      "Epoch 65/500\n",
      "4/4 [==============================] - 0s 29ms/step - loss: 5.6239e-04 - accuracy: 1.0000\n",
      "Epoch 66/500\n",
      "4/4 [==============================] - 0s 30ms/step - loss: 6.1221e-04 - accuracy: 1.0000\n",
      "Epoch 67/500\n",
      "4/4 [==============================] - 0s 30ms/step - loss: 5.2711e-04 - accuracy: 1.0000\n",
      "Epoch 68/500\n",
      "4/4 [==============================] - 0s 29ms/step - loss: 5.6211e-04 - accuracy: 1.0000\n",
      "Epoch 69/500\n",
      "4/4 [==============================] - 0s 29ms/step - loss: 4.4630e-04 - accuracy: 1.0000\n",
      "Epoch 70/500\n",
      "4/4 [==============================] - 0s 29ms/step - loss: 6.2166e-04 - accuracy: 1.0000\n",
      "Epoch 71/500\n",
      "4/4 [==============================] - 0s 29ms/step - loss: 5.8964e-04 - accuracy: 1.0000\n",
      "Epoch 72/500\n",
      "4/4 [==============================] - 0s 36ms/step - loss: 3.5562e-04 - accuracy: 1.0000\n",
      "Epoch 73/500\n",
      "4/4 [==============================] - 0s 29ms/step - loss: 4.1096e-04 - accuracy: 1.0000\n",
      "Epoch 74/500\n",
      "4/4 [==============================] - 0s 32ms/step - loss: 0.0011 - accuracy: 1.0000\n",
      "Epoch 75/500\n",
      "4/4 [==============================] - 0s 24ms/step - loss: 5.0508e-04 - accuracy: 1.0000\n",
      "Epoch 76/500\n",
      "4/4 [==============================] - 0s 30ms/step - loss: 7.6005e-04 - accuracy: 1.0000\n",
      "Epoch 77/500\n",
      "4/4 [==============================] - 0s 29ms/step - loss: 3.2193e-04 - accuracy: 1.0000\n",
      "Epoch 78/500\n",
      "4/4 [==============================] - 0s 33ms/step - loss: 6.3101e-04 - accuracy: 1.0000\n",
      "Epoch 79/500\n",
      "4/4 [==============================] - 0s 25ms/step - loss: 3.5222e-04 - accuracy: 1.0000\n",
      "Epoch 80/500\n",
      "4/4 [==============================] - 0s 28ms/step - loss: 4.3632e-04 - accuracy: 1.0000\n",
      "Epoch 81/500\n",
      "4/4 [==============================] - 0s 30ms/step - loss: 3.2173e-04 - accuracy: 1.0000\n",
      "Epoch 82/500\n",
      "4/4 [==============================] - 0s 29ms/step - loss: 3.5241e-04 - accuracy: 1.0000\n",
      "Epoch 83/500\n",
      "4/4 [==============================] - 0s 28ms/step - loss: 2.6463e-04 - accuracy: 1.0000\n",
      "Epoch 84/500\n",
      "4/4 [==============================] - 0s 34ms/step - loss: 5.3347e-04 - accuracy: 1.0000\n",
      "Epoch 85/500\n",
      "4/4 [==============================] - 0s 33ms/step - loss: 5.8698e-04 - accuracy: 1.0000\n",
      "Epoch 86/500\n",
      "4/4 [==============================] - 0s 32ms/step - loss: 4.1013e-04 - accuracy: 1.0000\n",
      "Epoch 87/500\n",
      "4/4 [==============================] - 0s 27ms/step - loss: 3.9649e-04 - accuracy: 1.0000\n",
      "Epoch 88/500\n",
      "4/4 [==============================] - 0s 31ms/step - loss: 4.5655e-04 - accuracy: 1.0000\n",
      "Epoch 89/500\n",
      "4/4 [==============================] - 0s 36ms/step - loss: 2.7926e-04 - accuracy: 1.0000\n",
      "Epoch 90/500\n",
      "4/4 [==============================] - 0s 36ms/step - loss: 4.1163e-04 - accuracy: 1.0000\n",
      "Epoch 91/500\n",
      "4/4 [==============================] - 0s 26ms/step - loss: 2.7560e-04 - accuracy: 1.0000\n",
      "Epoch 92/500\n",
      "4/4 [==============================] - 0s 30ms/step - loss: 3.6527e-04 - accuracy: 1.0000\n",
      "Epoch 93/500\n",
      "4/4 [==============================] - 0s 31ms/step - loss: 4.6323e-04 - accuracy: 1.0000\n",
      "Epoch 94/500\n",
      "4/4 [==============================] - 0s 30ms/step - loss: 4.0612e-04 - accuracy: 1.0000\n",
      "Epoch 95/500\n",
      "4/4 [==============================] - 0s 32ms/step - loss: 3.7011e-04 - accuracy: 1.0000\n",
      "Epoch 96/500\n",
      "4/4 [==============================] - 0s 33ms/step - loss: 4.1564e-04 - accuracy: 1.0000\n",
      "Epoch 97/500\n",
      "4/4 [==============================] - 0s 32ms/step - loss: 2.8068e-04 - accuracy: 1.0000\n",
      "Epoch 98/500\n",
      "4/4 [==============================] - 0s 29ms/step - loss: 3.2485e-04 - accuracy: 1.0000\n",
      "Epoch 99/500\n",
      "4/4 [==============================] - 0s 27ms/step - loss: 2.1994e-04 - accuracy: 1.0000\n",
      "Epoch 100/500\n",
      "4/4 [==============================] - 0s 30ms/step - loss: 2.4792e-04 - accuracy: 1.0000\n",
      "Epoch 101/500\n",
      "4/4 [==============================] - 0s 29ms/step - loss: 5.7301e-04 - accuracy: 1.0000\n",
      "Epoch 102/500\n",
      "4/4 [==============================] - 0s 29ms/step - loss: 3.1883e-04 - accuracy: 1.0000\n",
      "Epoch 103/500\n",
      "4/4 [==============================] - 0s 29ms/step - loss: 2.3908e-04 - accuracy: 1.0000\n",
      "Epoch 104/500\n",
      "4/4 [==============================] - 0s 37ms/step - loss: 3.6169e-04 - accuracy: 1.0000\n",
      "Epoch 105/500\n",
      "4/4 [==============================] - 0s 29ms/step - loss: 5.2167e-04 - accuracy: 1.0000\n",
      "Epoch 106/500\n",
      "4/4 [==============================] - 0s 32ms/step - loss: 2.2385e-04 - accuracy: 1.0000\n",
      "Epoch 107/500\n",
      "4/4 [==============================] - 0s 27ms/step - loss: 2.3009e-04 - accuracy: 1.0000\n",
      "Epoch 108/500\n",
      "4/4 [==============================] - 0s 30ms/step - loss: 2.6408e-04 - accuracy: 1.0000\n",
      "Epoch 109/500\n",
      "4/4 [==============================] - 0s 31ms/step - loss: 2.5611e-04 - accuracy: 1.0000\n",
      "Epoch 110/500\n",
      "4/4 [==============================] - 0s 30ms/step - loss: 4.6963e-04 - accuracy: 1.0000\n",
      "Epoch 111/500\n",
      "4/4 [==============================] - 0s 31ms/step - loss: 2.9016e-04 - accuracy: 1.0000\n",
      "Epoch 112/500\n",
      "4/4 [==============================] - 0s 30ms/step - loss: 2.6690e-04 - accuracy: 1.0000\n",
      "Epoch 113/500\n",
      "4/4 [==============================] - 0s 30ms/step - loss: 2.2810e-04 - accuracy: 1.0000\n",
      "Epoch 114/500\n",
      "4/4 [==============================] - 0s 34ms/step - loss: 4.8881e-04 - accuracy: 1.0000\n",
      "Epoch 115/500\n",
      "4/4 [==============================] - 0s 27ms/step - loss: 2.2308e-04 - accuracy: 1.0000\n",
      "Epoch 116/500\n",
      "4/4 [==============================] - 0s 34ms/step - loss: 2.2217e-04 - accuracy: 1.0000\n",
      "Epoch 117/500\n",
      "4/4 [==============================] - 0s 29ms/step - loss: 2.4647e-04 - accuracy: 1.0000\n",
      "Epoch 118/500\n",
      "4/4 [==============================] - 0s 29ms/step - loss: 2.3587e-04 - accuracy: 1.0000\n",
      "Epoch 119/500\n",
      "4/4 [==============================] - 0s 32ms/step - loss: 2.9456e-04 - accuracy: 1.0000\n",
      "Epoch 120/500\n",
      "4/4 [==============================] - 0s 34ms/step - loss: 4.4083e-04 - accuracy: 1.0000\n",
      "Epoch 121/500\n",
      "4/4 [==============================] - 0s 31ms/step - loss: 2.9175e-04 - accuracy: 1.0000\n",
      "Epoch 122/500\n",
      "4/4 [==============================] - 0s 30ms/step - loss: 1.7398e-04 - accuracy: 1.0000\n",
      "Epoch 123/500\n",
      "4/4 [==============================] - 0s 31ms/step - loss: 3.6690e-04 - accuracy: 1.0000\n",
      "Epoch 124/500\n",
      "4/4 [==============================] - 0s 28ms/step - loss: 4.1851e-04 - accuracy: 1.0000\n",
      "Epoch 125/500\n",
      "4/4 [==============================] - 0s 30ms/step - loss: 1.8504e-04 - accuracy: 1.0000\n",
      "Epoch 126/500\n",
      "4/4 [==============================] - 0s 30ms/step - loss: 1.3745e-04 - accuracy: 1.0000\n",
      "Epoch 127/500\n",
      "4/4 [==============================] - 0s 32ms/step - loss: 2.6374e-04 - accuracy: 1.0000\n",
      "Epoch 128/500\n",
      "4/4 [==============================] - 0s 29ms/step - loss: 1.5067e-04 - accuracy: 1.0000\n",
      "Epoch 129/500\n",
      "4/4 [==============================] - 0s 29ms/step - loss: 1.9489e-04 - accuracy: 1.0000\n",
      "Epoch 130/500\n",
      "4/4 [==============================] - 0s 30ms/step - loss: 1.9364e-04 - accuracy: 1.0000\n",
      "Epoch 131/500\n",
      "4/4 [==============================] - 0s 33ms/step - loss: 3.1734e-04 - accuracy: 1.0000\n",
      "Epoch 132/500\n",
      "4/4 [==============================] - 0s 29ms/step - loss: 2.9594e-04 - accuracy: 1.0000\n",
      "Epoch 133/500\n",
      "4/4 [==============================] - 0s 40ms/step - loss: 2.5090e-04 - accuracy: 1.0000\n",
      "Epoch 134/500\n",
      "4/4 [==============================] - 0s 41ms/step - loss: 2.5102e-04 - accuracy: 1.0000\n",
      "Epoch 135/500\n",
      "4/4 [==============================] - 0s 32ms/step - loss: 2.0306e-04 - accuracy: 1.0000\n",
      "Epoch 136/500\n",
      "4/4 [==============================] - 0s 34ms/step - loss: 1.8835e-04 - accuracy: 1.0000\n",
      "Epoch 137/500\n",
      "4/4 [==============================] - 0s 30ms/step - loss: 1.8778e-04 - accuracy: 1.0000\n",
      "Epoch 138/500\n",
      "4/4 [==============================] - 0s 31ms/step - loss: 1.6291e-04 - accuracy: 1.0000\n",
      "Epoch 139/500\n",
      "4/4 [==============================] - 0s 30ms/step - loss: 2.5242e-04 - accuracy: 1.0000\n",
      "Epoch 140/500\n",
      "4/4 [==============================] - 0s 31ms/step - loss: 1.4715e-04 - accuracy: 1.0000\n",
      "Epoch 141/500\n",
      "4/4 [==============================] - 0s 30ms/step - loss: 1.7812e-04 - accuracy: 1.0000\n",
      "Epoch 142/500\n",
      "4/4 [==============================] - 0s 31ms/step - loss: 8.7967e-05 - accuracy: 1.0000\n",
      "Epoch 143/500\n",
      "4/4 [==============================] - 0s 30ms/step - loss: 1.3297e-04 - accuracy: 1.0000\n",
      "Epoch 144/500\n",
      "4/4 [==============================] - 0s 31ms/step - loss: 2.1329e-04 - accuracy: 1.0000\n",
      "Epoch 145/500\n",
      "4/4 [==============================] - 0s 31ms/step - loss: 1.4169e-04 - accuracy: 1.0000\n",
      "Epoch 146/500\n",
      "4/4 [==============================] - 0s 29ms/step - loss: 2.7193e-04 - accuracy: 1.0000\n",
      "Epoch 147/500\n",
      "4/4 [==============================] - 0s 32ms/step - loss: 1.5106e-04 - accuracy: 1.0000\n",
      "Epoch 148/500\n",
      "4/4 [==============================] - 0s 31ms/step - loss: 1.3914e-04 - accuracy: 1.0000\n",
      "Epoch 149/500\n",
      "4/4 [==============================] - 0s 32ms/step - loss: 1.7560e-04 - accuracy: 1.0000\n",
      "Epoch 150/500\n",
      "4/4 [==============================] - 0s 30ms/step - loss: 1.4842e-04 - accuracy: 1.0000\n",
      "Epoch 151/500\n",
      "4/4 [==============================] - 0s 29ms/step - loss: 1.8667e-04 - accuracy: 1.0000\n",
      "Epoch 152/500\n",
      "4/4 [==============================] - 0s 47ms/step - loss: 1.8982e-04 - accuracy: 1.0000\n",
      "Epoch 153/500\n",
      "4/4 [==============================] - 0s 34ms/step - loss: 2.2545e-04 - accuracy: 1.0000\n",
      "Epoch 154/500\n",
      "4/4 [==============================] - 0s 31ms/step - loss: 1.1265e-04 - accuracy: 1.0000\n",
      "Epoch 155/500\n",
      "4/4 [==============================] - 0s 32ms/step - loss: 1.4500e-04 - accuracy: 1.0000\n",
      "Epoch 156/500\n",
      "4/4 [==============================] - 0s 31ms/step - loss: 9.2462e-05 - accuracy: 1.0000\n",
      "Epoch 157/500\n",
      "4/4 [==============================] - 0s 29ms/step - loss: 1.4586e-04 - accuracy: 1.0000\n",
      "Epoch 158/500\n",
      "4/4 [==============================] - 0s 30ms/step - loss: 1.1610e-04 - accuracy: 1.0000\n",
      "Epoch 159/500\n",
      "4/4 [==============================] - 0s 31ms/step - loss: 1.7491e-04 - accuracy: 1.0000\n",
      "Epoch 160/500\n",
      "4/4 [==============================] - 0s 30ms/step - loss: 1.2726e-04 - accuracy: 1.0000\n",
      "Epoch 161/500\n",
      "4/4 [==============================] - 0s 31ms/step - loss: 2.0003e-04 - accuracy: 1.0000\n",
      "Epoch 162/500\n",
      "4/4 [==============================] - 0s 30ms/step - loss: 1.1274e-04 - accuracy: 1.0000\n",
      "Epoch 163/500\n",
      "4/4 [==============================] - 0s 31ms/step - loss: 1.4486e-04 - accuracy: 1.0000\n",
      "Epoch 164/500\n",
      "4/4 [==============================] - 0s 33ms/step - loss: 9.0877e-05 - accuracy: 1.0000\n",
      "Epoch 165/500\n",
      "4/4 [==============================] - 0s 29ms/step - loss: 1.0860e-04 - accuracy: 1.0000\n",
      "Epoch 166/500\n",
      "4/4 [==============================] - 0s 30ms/step - loss: 1.0635e-04 - accuracy: 1.0000\n",
      "Epoch 167/500\n",
      "4/4 [==============================] - 0s 32ms/step - loss: 2.5214e-04 - accuracy: 1.0000\n",
      "Epoch 168/500\n",
      "4/4 [==============================] - 0s 34ms/step - loss: 1.5120e-04 - accuracy: 1.0000\n",
      "Epoch 169/500\n",
      "4/4 [==============================] - 0s 29ms/step - loss: 9.7004e-05 - accuracy: 1.0000\n",
      "Epoch 170/500\n",
      "4/4 [==============================] - 0s 30ms/step - loss: 1.0419e-04 - accuracy: 1.0000\n",
      "Epoch 171/500\n",
      "4/4 [==============================] - 0s 44ms/step - loss: 1.4999e-04 - accuracy: 1.0000\n",
      "Epoch 172/500\n",
      "4/4 [==============================] - 0s 36ms/step - loss: 1.1483e-04 - accuracy: 1.0000\n",
      "Epoch 173/500\n",
      "4/4 [==============================] - 0s 30ms/step - loss: 9.6570e-05 - accuracy: 1.0000\n",
      "Epoch 174/500\n",
      "4/4 [==============================] - 0s 32ms/step - loss: 8.3880e-05 - accuracy: 1.0000\n",
      "Epoch 175/500\n",
      "4/4 [==============================] - 0s 30ms/step - loss: 1.1134e-04 - accuracy: 1.0000\n",
      "Epoch 176/500\n",
      "4/4 [==============================] - 0s 30ms/step - loss: 1.3276e-04 - accuracy: 1.0000\n",
      "Epoch 177/500\n",
      "4/4 [==============================] - 0s 30ms/step - loss: 1.3638e-04 - accuracy: 1.0000\n",
      "Epoch 178/500\n",
      "4/4 [==============================] - 0s 33ms/step - loss: 1.4078e-04 - accuracy: 1.0000\n",
      "Epoch 179/500\n",
      "4/4 [==============================] - 0s 32ms/step - loss: 1.5720e-04 - accuracy: 1.0000\n",
      "Epoch 180/500\n",
      "4/4 [==============================] - 0s 31ms/step - loss: 1.2067e-04 - accuracy: 1.0000\n",
      "Epoch 181/500\n",
      "4/4 [==============================] - 0s 31ms/step - loss: 1.2729e-04 - accuracy: 1.0000\n",
      "Epoch 182/500\n",
      "4/4 [==============================] - 0s 34ms/step - loss: 9.3984e-05 - accuracy: 1.0000\n",
      "Epoch 183/500\n",
      "4/4 [==============================] - 0s 32ms/step - loss: 1.2318e-04 - accuracy: 1.0000\n",
      "Epoch 184/500\n",
      "4/4 [==============================] - 0s 31ms/step - loss: 6.5208e-05 - accuracy: 1.0000\n",
      "Epoch 185/500\n",
      "4/4 [==============================] - 0s 30ms/step - loss: 1.2150e-04 - accuracy: 1.0000\n",
      "Epoch 186/500\n",
      "4/4 [==============================] - 0s 32ms/step - loss: 1.6113e-04 - accuracy: 1.0000\n",
      "Epoch 187/500\n",
      "4/4 [==============================] - 0s 33ms/step - loss: 1.2048e-04 - accuracy: 1.0000\n",
      "Epoch 188/500\n",
      "4/4 [==============================] - 0s 44ms/step - loss: 1.5983e-04 - accuracy: 1.0000\n",
      "Epoch 189/500\n",
      "4/4 [==============================] - 0s 31ms/step - loss: 7.9215e-05 - accuracy: 1.0000\n",
      "Epoch 190/500\n",
      "4/4 [==============================] - 0s 34ms/step - loss: 1.0414e-04 - accuracy: 1.0000\n",
      "Epoch 191/500\n",
      "4/4 [==============================] - 0s 31ms/step - loss: 8.0908e-05 - accuracy: 1.0000\n",
      "Epoch 192/500\n",
      "4/4 [==============================] - 0s 32ms/step - loss: 6.8069e-05 - accuracy: 1.0000\n",
      "Epoch 193/500\n",
      "4/4 [==============================] - 0s 33ms/step - loss: 1.3046e-04 - accuracy: 1.0000\n",
      "Epoch 194/500\n",
      "4/4 [==============================] - 0s 31ms/step - loss: 1.0242e-04 - accuracy: 1.0000\n",
      "Epoch 195/500\n",
      "4/4 [==============================] - 0s 30ms/step - loss: 8.4923e-05 - accuracy: 1.0000\n",
      "Epoch 196/500\n",
      "4/4 [==============================] - 0s 34ms/step - loss: 1.9396e-04 - accuracy: 1.0000\n",
      "Epoch 197/500\n",
      "4/4 [==============================] - 0s 30ms/step - loss: 1.1962e-04 - accuracy: 1.0000\n",
      "Epoch 198/500\n",
      "4/4 [==============================] - 0s 31ms/step - loss: 8.7640e-05 - accuracy: 1.0000\n",
      "Epoch 199/500\n",
      "4/4 [==============================] - 0s 34ms/step - loss: 8.5092e-05 - accuracy: 1.0000\n",
      "Epoch 200/500\n",
      "4/4 [==============================] - 0s 30ms/step - loss: 8.7800e-05 - accuracy: 1.0000\n",
      "Epoch 201/500\n",
      "4/4 [==============================] - 0s 31ms/step - loss: 7.4076e-05 - accuracy: 1.0000\n",
      "Epoch 202/500\n",
      "4/4 [==============================] - 0s 31ms/step - loss: 9.1851e-05 - accuracy: 1.0000\n",
      "Epoch 203/500\n",
      "4/4 [==============================] - 0s 30ms/step - loss: 9.8801e-05 - accuracy: 1.0000\n",
      "Epoch 204/500\n",
      "4/4 [==============================] - 0s 32ms/step - loss: 8.0314e-05 - accuracy: 1.0000\n",
      "Epoch 205/500\n",
      "4/4 [==============================] - 0s 41ms/step - loss: 1.5371e-04 - accuracy: 1.0000\n",
      "Epoch 206/500\n",
      "4/4 [==============================] - 0s 36ms/step - loss: 7.9375e-05 - accuracy: 1.0000\n",
      "Epoch 207/500\n",
      "4/4 [==============================] - 0s 30ms/step - loss: 8.4299e-05 - accuracy: 1.0000\n",
      "Epoch 208/500\n",
      "4/4 [==============================] - 0s 35ms/step - loss: 6.5430e-05 - accuracy: 1.0000\n",
      "Epoch 209/500\n",
      "4/4 [==============================] - 0s 32ms/step - loss: 5.7618e-05 - accuracy: 1.0000\n",
      "Epoch 210/500\n",
      "4/4 [==============================] - 0s 35ms/step - loss: 6.8972e-05 - accuracy: 1.0000\n",
      "Epoch 211/500\n",
      "4/4 [==============================] - 0s 31ms/step - loss: 7.4296e-05 - accuracy: 1.0000\n",
      "Epoch 212/500\n",
      "4/4 [==============================] - 0s 33ms/step - loss: 6.8405e-05 - accuracy: 1.0000\n",
      "Epoch 213/500\n",
      "4/4 [==============================] - 0s 34ms/step - loss: 8.7991e-05 - accuracy: 1.0000\n",
      "Epoch 214/500\n",
      "4/4 [==============================] - 0s 36ms/step - loss: 1.0891e-04 - accuracy: 1.0000\n",
      "Epoch 215/500\n",
      "4/4 [==============================] - 0s 31ms/step - loss: 7.4193e-05 - accuracy: 1.0000\n",
      "Epoch 216/500\n",
      "4/4 [==============================] - 0s 34ms/step - loss: 7.4637e-05 - accuracy: 1.0000\n",
      "Epoch 217/500\n",
      "4/4 [==============================] - 0s 33ms/step - loss: 8.8452e-05 - accuracy: 1.0000\n",
      "Epoch 218/500\n",
      "4/4 [==============================] - 0s 34ms/step - loss: 6.3284e-05 - accuracy: 1.0000\n",
      "Epoch 219/500\n",
      "4/4 [==============================] - 0s 34ms/step - loss: 1.3705e-04 - accuracy: 1.0000\n",
      "Epoch 220/500\n",
      "4/4 [==============================] - 0s 44ms/step - loss: 1.3491e-04 - accuracy: 1.0000\n",
      "Epoch 221/500\n",
      "4/4 [==============================] - 0s 34ms/step - loss: 1.8169e-04 - accuracy: 1.0000\n",
      "Epoch 222/500\n",
      "4/4 [==============================] - 0s 36ms/step - loss: 5.1251e-05 - accuracy: 1.0000\n",
      "Epoch 223/500\n",
      "4/4 [==============================] - 0s 30ms/step - loss: 9.0990e-05 - accuracy: 1.0000\n",
      "Epoch 224/500\n",
      "4/4 [==============================] - 0s 33ms/step - loss: 6.3516e-05 - accuracy: 1.0000\n",
      "Epoch 225/500\n",
      "4/4 [==============================] - 0s 34ms/step - loss: 4.4730e-05 - accuracy: 1.0000\n",
      "Epoch 226/500\n",
      "4/4 [==============================] - 0s 31ms/step - loss: 8.4113e-05 - accuracy: 1.0000\n",
      "Epoch 227/500\n",
      "4/4 [==============================] - 0s 36ms/step - loss: 5.7007e-05 - accuracy: 1.0000\n",
      "Epoch 228/500\n",
      "4/4 [==============================] - 0s 32ms/step - loss: 6.6313e-05 - accuracy: 1.0000\n",
      "Epoch 229/500\n",
      "4/4 [==============================] - 0s 32ms/step - loss: 7.0688e-05 - accuracy: 1.0000\n",
      "Epoch 230/500\n",
      "4/4 [==============================] - 0s 33ms/step - loss: 6.8115e-05 - accuracy: 1.0000\n",
      "Epoch 231/500\n",
      "4/4 [==============================] - 0s 32ms/step - loss: 5.0310e-05 - accuracy: 1.0000\n",
      "Epoch 232/500\n",
      "4/4 [==============================] - 0s 33ms/step - loss: 6.3545e-05 - accuracy: 1.0000\n",
      "Epoch 233/500\n",
      "4/4 [==============================] - 0s 31ms/step - loss: 5.6782e-05 - accuracy: 1.0000\n",
      "Epoch 234/500\n",
      "4/4 [==============================] - 0s 34ms/step - loss: 7.4017e-05 - accuracy: 1.0000\n",
      "Epoch 235/500\n",
      "4/4 [==============================] - 0s 46ms/step - loss: 1.0317e-04 - accuracy: 1.0000\n",
      "Epoch 236/500\n",
      "4/4 [==============================] - 0s 38ms/step - loss: 5.7619e-05 - accuracy: 1.0000\n",
      "Epoch 237/500\n",
      "4/4 [==============================] - 0s 33ms/step - loss: 7.2316e-05 - accuracy: 1.0000\n",
      "Epoch 238/500\n",
      "4/4 [==============================] - 0s 31ms/step - loss: 5.9797e-05 - accuracy: 1.0000\n",
      "Epoch 239/500\n",
      "4/4 [==============================] - 0s 34ms/step - loss: 3.9018e-05 - accuracy: 1.0000\n",
      "Epoch 240/500\n",
      "4/4 [==============================] - 0s 32ms/step - loss: 7.6504e-05 - accuracy: 1.0000\n",
      "Epoch 241/500\n",
      "4/4 [==============================] - 0s 32ms/step - loss: 8.3490e-05 - accuracy: 1.0000\n",
      "Epoch 242/500\n",
      "4/4 [==============================] - 0s 32ms/step - loss: 6.2480e-05 - accuracy: 1.0000\n",
      "Epoch 243/500\n",
      "4/4 [==============================] - 0s 32ms/step - loss: 4.7862e-05 - accuracy: 1.0000\n",
      "Epoch 244/500\n",
      "4/4 [==============================] - 0s 33ms/step - loss: 4.9352e-05 - accuracy: 1.0000\n",
      "Epoch 245/500\n",
      "4/4 [==============================] - 0s 32ms/step - loss: 4.5519e-05 - accuracy: 1.0000\n",
      "Epoch 246/500\n",
      "4/4 [==============================] - 0s 33ms/step - loss: 6.6316e-05 - accuracy: 1.0000\n",
      "Epoch 247/500\n",
      "4/4 [==============================] - 0s 32ms/step - loss: 6.5196e-05 - accuracy: 1.0000\n",
      "Epoch 248/500\n",
      "4/4 [==============================] - 0s 34ms/step - loss: 6.0336e-05 - accuracy: 1.0000\n",
      "Epoch 249/500\n",
      "4/4 [==============================] - 0s 36ms/step - loss: 5.5447e-05 - accuracy: 1.0000\n",
      "Epoch 250/500\n",
      "4/4 [==============================] - 0s 36ms/step - loss: 7.9853e-05 - accuracy: 1.0000\n",
      "Epoch 251/500\n",
      "4/4 [==============================] - 0s 33ms/step - loss: 9.2881e-05 - accuracy: 1.0000\n",
      "Epoch 252/500\n",
      "4/4 [==============================] - 0s 33ms/step - loss: 7.5902e-05 - accuracy: 1.0000\n",
      "Epoch 253/500\n",
      "4/4 [==============================] - 0s 33ms/step - loss: 6.7855e-05 - accuracy: 1.0000\n",
      "Epoch 254/500\n",
      "4/4 [==============================] - 0s 33ms/step - loss: 7.3167e-05 - accuracy: 1.0000\n",
      "Epoch 255/500\n",
      "4/4 [==============================] - 0s 33ms/step - loss: 1.2167e-04 - accuracy: 1.0000\n",
      "Epoch 256/500\n",
      "4/4 [==============================] - 0s 34ms/step - loss: 7.3195e-05 - accuracy: 1.0000\n",
      "Epoch 257/500\n",
      "4/4 [==============================] - 0s 32ms/step - loss: 4.2817e-05 - accuracy: 1.0000\n",
      "Epoch 258/500\n",
      "4/4 [==============================] - 0s 34ms/step - loss: 5.3405e-05 - accuracy: 1.0000\n",
      "Epoch 259/500\n",
      "4/4 [==============================] - 0s 32ms/step - loss: 3.8792e-05 - accuracy: 1.0000\n",
      "Epoch 260/500\n",
      "4/4 [==============================] - 0s 33ms/step - loss: 5.7645e-05 - accuracy: 1.0000\n",
      "Epoch 261/500\n",
      "4/4 [==============================] - 0s 38ms/step - loss: 6.8675e-05 - accuracy: 1.0000\n",
      "Epoch 262/500\n",
      "4/4 [==============================] - 0s 35ms/step - loss: 6.3330e-05 - accuracy: 1.0000\n",
      "Epoch 263/500\n",
      "4/4 [==============================] - 0s 32ms/step - loss: 4.7965e-05 - accuracy: 1.0000\n",
      "Epoch 264/500\n",
      "4/4 [==============================] - 0s 52ms/step - loss: 4.5433e-05 - accuracy: 1.0000\n",
      "Epoch 265/500\n",
      "4/4 [==============================] - 0s 34ms/step - loss: 4.7771e-05 - accuracy: 1.0000\n",
      "Epoch 266/500\n",
      "4/4 [==============================] - 0s 33ms/step - loss: 5.5431e-05 - accuracy: 1.0000\n",
      "Epoch 267/500\n",
      "4/4 [==============================] - 0s 35ms/step - loss: 4.6790e-05 - accuracy: 1.0000\n",
      "Epoch 268/500\n",
      "4/4 [==============================] - 0s 34ms/step - loss: 7.5727e-05 - accuracy: 1.0000\n",
      "Epoch 269/500\n",
      "4/4 [==============================] - 0s 33ms/step - loss: 6.7686e-05 - accuracy: 1.0000\n",
      "Epoch 270/500\n",
      "4/4 [==============================] - 0s 32ms/step - loss: 4.5564e-05 - accuracy: 1.0000\n",
      "Epoch 271/500\n",
      "4/4 [==============================] - 0s 35ms/step - loss: 6.6303e-05 - accuracy: 1.0000\n",
      "Epoch 272/500\n",
      "4/4 [==============================] - 0s 33ms/step - loss: 5.4247e-05 - accuracy: 1.0000\n",
      "Epoch 273/500\n",
      "4/4 [==============================] - 0s 33ms/step - loss: 6.2327e-05 - accuracy: 1.0000\n",
      "Epoch 274/500\n",
      "4/4 [==============================] - 0s 33ms/step - loss: 8.4357e-05 - accuracy: 1.0000\n",
      "Epoch 275/500\n",
      "4/4 [==============================] - 0s 34ms/step - loss: 4.0624e-05 - accuracy: 1.0000\n",
      "Epoch 276/500\n",
      "4/4 [==============================] - 0s 34ms/step - loss: 4.7403e-05 - accuracy: 1.0000\n",
      "Epoch 277/500\n",
      "4/4 [==============================] - 0s 39ms/step - loss: 7.4511e-05 - accuracy: 1.0000\n",
      "Epoch 278/500\n",
      "4/4 [==============================] - 0s 35ms/step - loss: 4.9575e-05 - accuracy: 1.0000\n",
      "Epoch 279/500\n",
      "4/4 [==============================] - 0s 34ms/step - loss: 4.4433e-05 - accuracy: 1.0000\n",
      "Epoch 280/500\n",
      "4/4 [==============================] - 0s 34ms/step - loss: 4.5730e-05 - accuracy: 1.0000\n",
      "Epoch 281/500\n",
      "4/4 [==============================] - 0s 32ms/step - loss: 4.8978e-05 - accuracy: 1.0000\n",
      "Epoch 282/500\n",
      "4/4 [==============================] - 0s 33ms/step - loss: 2.9973e-05 - accuracy: 1.0000\n",
      "Epoch 283/500\n",
      "4/4 [==============================] - 0s 31ms/step - loss: 5.4412e-05 - accuracy: 1.0000\n",
      "Epoch 284/500\n",
      "4/4 [==============================] - 0s 35ms/step - loss: 4.6130e-05 - accuracy: 1.0000\n",
      "Epoch 285/500\n",
      "4/4 [==============================] - 0s 37ms/step - loss: 3.5890e-05 - accuracy: 1.0000\n",
      "Epoch 286/500\n",
      "4/4 [==============================] - 0s 33ms/step - loss: 3.2035e-05 - accuracy: 1.0000\n",
      "Epoch 287/500\n",
      "4/4 [==============================] - 0s 33ms/step - loss: 6.2933e-05 - accuracy: 1.0000\n",
      "Epoch 288/500\n",
      "4/4 [==============================] - 0s 32ms/step - loss: 4.0339e-05 - accuracy: 1.0000\n",
      "Epoch 289/500\n",
      "4/4 [==============================] - 0s 43ms/step - loss: 5.1102e-05 - accuracy: 1.0000\n",
      "Epoch 290/500\n",
      "4/4 [==============================] - 0s 35ms/step - loss: 4.7787e-05 - accuracy: 1.0000\n",
      "Epoch 291/500\n",
      "4/4 [==============================] - 0s 33ms/step - loss: 3.7477e-05 - accuracy: 1.0000\n",
      "Epoch 292/500\n",
      "4/4 [==============================] - 0s 36ms/step - loss: 4.4870e-05 - accuracy: 1.0000\n",
      "Epoch 293/500\n",
      "4/4 [==============================] - 0s 34ms/step - loss: 3.2589e-05 - accuracy: 1.0000\n",
      "Epoch 294/500\n",
      "4/4 [==============================] - 0s 33ms/step - loss: 1.0163e-04 - accuracy: 1.0000\n",
      "Epoch 295/500\n",
      "4/4 [==============================] - 0s 33ms/step - loss: 3.4644e-05 - accuracy: 1.0000\n",
      "Epoch 296/500\n",
      "4/4 [==============================] - 0s 35ms/step - loss: 3.9251e-05 - accuracy: 1.0000\n",
      "Epoch 297/500\n",
      "4/4 [==============================] - 0s 34ms/step - loss: 8.9020e-05 - accuracy: 1.0000\n",
      "Epoch 298/500\n",
      "4/4 [==============================] - 0s 34ms/step - loss: 4.6823e-05 - accuracy: 1.0000\n",
      "Epoch 299/500\n",
      "4/4 [==============================] - 0s 34ms/step - loss: 5.3355e-05 - accuracy: 1.0000\n",
      "Epoch 300/500\n",
      "4/4 [==============================] - 0s 44ms/step - loss: 4.9743e-05 - accuracy: 1.0000\n",
      "Epoch 301/500\n",
      "4/4 [==============================] - 0s 35ms/step - loss: 4.7334e-05 - accuracy: 1.0000\n",
      "Epoch 302/500\n",
      "4/4 [==============================] - 0s 33ms/step - loss: 6.0103e-05 - accuracy: 1.0000\n",
      "Epoch 303/500\n",
      "4/4 [==============================] - 0s 35ms/step - loss: 3.9291e-05 - accuracy: 1.0000\n",
      "Epoch 304/500\n",
      "4/4 [==============================] - 0s 34ms/step - loss: 6.9421e-05 - accuracy: 1.0000\n",
      "Epoch 305/500\n",
      "4/4 [==============================] - 0s 34ms/step - loss: 4.0588e-05 - accuracy: 1.0000\n",
      "Epoch 306/500\n",
      "4/4 [==============================] - 0s 34ms/step - loss: 3.5806e-05 - accuracy: 1.0000\n",
      "Epoch 307/500\n",
      "4/4 [==============================] - 0s 36ms/step - loss: 4.9452e-05 - accuracy: 1.0000\n",
      "Epoch 308/500\n",
      "4/4 [==============================] - 0s 32ms/step - loss: 4.3224e-05 - accuracy: 1.0000\n",
      "Epoch 309/500\n",
      "4/4 [==============================] - 0s 33ms/step - loss: 3.2640e-05 - accuracy: 1.0000\n",
      "Epoch 310/500\n",
      "4/4 [==============================] - 0s 32ms/step - loss: 4.5075e-05 - accuracy: 1.0000\n",
      "Epoch 311/500\n",
      "4/4 [==============================] - 0s 36ms/step - loss: 2.8121e-05 - accuracy: 1.0000\n",
      "Epoch 312/500\n",
      "4/4 [==============================] - 0s 44ms/step - loss: 4.6985e-05 - accuracy: 1.0000\n",
      "Epoch 313/500\n",
      "4/4 [==============================] - 0s 31ms/step - loss: 1.9472e-05 - accuracy: 1.0000\n",
      "Epoch 314/500\n",
      "4/4 [==============================] - 0s 35ms/step - loss: 3.0068e-05 - accuracy: 1.0000\n",
      "Epoch 315/500\n",
      "4/4 [==============================] - 0s 33ms/step - loss: 4.2919e-05 - accuracy: 1.0000\n",
      "Epoch 316/500\n",
      "4/4 [==============================] - 0s 35ms/step - loss: 6.0312e-05 - accuracy: 1.0000\n",
      "Epoch 317/500\n",
      "4/4 [==============================] - 0s 35ms/step - loss: 2.2509e-05 - accuracy: 1.0000\n",
      "Epoch 318/500\n",
      "4/4 [==============================] - 0s 34ms/step - loss: 3.5713e-05 - accuracy: 1.0000\n",
      "Epoch 319/500\n",
      "4/4 [==============================] - 0s 34ms/step - loss: 6.0246e-05 - accuracy: 1.0000\n",
      "Epoch 320/500\n",
      "4/4 [==============================] - 0s 34ms/step - loss: 5.5187e-05 - accuracy: 1.0000\n",
      "Epoch 321/500\n",
      "4/4 [==============================] - 0s 34ms/step - loss: 4.7146e-05 - accuracy: 1.0000\n",
      "Epoch 322/500\n",
      "4/4 [==============================] - 0s 35ms/step - loss: 2.6592e-05 - accuracy: 1.0000\n",
      "Epoch 323/500\n",
      "4/4 [==============================] - 0s 51ms/step - loss: 3.5246e-05 - accuracy: 1.0000\n",
      "Epoch 324/500\n",
      "4/4 [==============================] - 0s 32ms/step - loss: 2.4987e-05 - accuracy: 1.0000\n",
      "Epoch 325/500\n",
      "4/4 [==============================] - 0s 38ms/step - loss: 3.5224e-05 - accuracy: 1.0000\n",
      "Epoch 326/500\n",
      "4/4 [==============================] - 0s 34ms/step - loss: 4.7059e-05 - accuracy: 1.0000\n",
      "Epoch 327/500\n",
      "4/4 [==============================] - 0s 34ms/step - loss: 3.6526e-05 - accuracy: 1.0000\n",
      "Epoch 328/500\n",
      "4/4 [==============================] - 0s 33ms/step - loss: 3.9253e-05 - accuracy: 1.0000\n",
      "Epoch 329/500\n",
      "4/4 [==============================] - 0s 39ms/step - loss: 4.9703e-05 - accuracy: 1.0000\n",
      "Epoch 330/500\n",
      "4/4 [==============================] - 0s 35ms/step - loss: 2.7032e-05 - accuracy: 1.0000\n",
      "Epoch 331/500\n",
      "4/4 [==============================] - 0s 31ms/step - loss: 3.5841e-05 - accuracy: 1.0000\n",
      "Epoch 332/500\n",
      "4/4 [==============================] - 0s 34ms/step - loss: 3.3214e-05 - accuracy: 1.0000\n",
      "Epoch 333/500\n",
      "4/4 [==============================] - 0s 34ms/step - loss: 3.2826e-05 - accuracy: 1.0000\n",
      "Epoch 334/500\n",
      "4/4 [==============================] - 0s 44ms/step - loss: 5.1737e-05 - accuracy: 1.0000\n",
      "Epoch 335/500\n",
      "4/4 [==============================] - 0s 30ms/step - loss: 1.9695e-05 - accuracy: 1.0000\n",
      "Epoch 336/500\n",
      "4/4 [==============================] - 0s 36ms/step - loss: 5.7438e-05 - accuracy: 1.0000\n",
      "Epoch 337/500\n",
      "4/4 [==============================] - 0s 33ms/step - loss: 4.0114e-05 - accuracy: 1.0000\n",
      "Epoch 338/500\n",
      "4/4 [==============================] - 0s 33ms/step - loss: 2.8893e-05 - accuracy: 1.0000\n",
      "Epoch 339/500\n",
      "4/4 [==============================] - 0s 34ms/step - loss: 3.9139e-05 - accuracy: 1.0000\n",
      "Epoch 340/500\n",
      "4/4 [==============================] - 0s 34ms/step - loss: 6.4221e-05 - accuracy: 1.0000\n",
      "Epoch 341/500\n",
      "4/4 [==============================] - 0s 34ms/step - loss: 3.7419e-05 - accuracy: 1.0000\n",
      "Epoch 342/500\n",
      "4/4 [==============================] - 0s 33ms/step - loss: 3.1397e-05 - accuracy: 1.0000\n",
      "Epoch 343/500\n",
      "4/4 [==============================] - 0s 35ms/step - loss: 4.1822e-05 - accuracy: 1.0000\n",
      "Epoch 344/500\n",
      "4/4 [==============================] - 0s 34ms/step - loss: 2.2300e-05 - accuracy: 1.0000\n",
      "Epoch 345/500\n",
      "4/4 [==============================] - 0s 44ms/step - loss: 3.2735e-05 - accuracy: 1.0000\n",
      "Epoch 346/500\n",
      "4/4 [==============================] - 0s 38ms/step - loss: 3.3520e-05 - accuracy: 1.0000\n",
      "Epoch 347/500\n",
      "4/4 [==============================] - 0s 38ms/step - loss: 3.1844e-05 - accuracy: 1.0000\n",
      "Epoch 348/500\n",
      "4/4 [==============================] - 0s 33ms/step - loss: 2.4701e-05 - accuracy: 1.0000\n",
      "Epoch 349/500\n",
      "4/4 [==============================] - 0s 35ms/step - loss: 5.6057e-05 - accuracy: 1.0000\n",
      "Epoch 350/500\n",
      "4/4 [==============================] - 0s 34ms/step - loss: 2.6434e-05 - accuracy: 1.0000\n",
      "Epoch 351/500\n",
      "4/4 [==============================] - 0s 33ms/step - loss: 2.9719e-05 - accuracy: 1.0000\n",
      "Epoch 352/500\n",
      "4/4 [==============================] - 0s 35ms/step - loss: 2.9796e-05 - accuracy: 1.0000\n",
      "Epoch 353/500\n",
      "4/4 [==============================] - 0s 31ms/step - loss: 3.7865e-05 - accuracy: 1.0000\n",
      "Epoch 354/500\n",
      "4/4 [==============================] - 0s 37ms/step - loss: 3.9413e-05 - accuracy: 1.0000\n",
      "Epoch 355/500\n",
      "4/4 [==============================] - 0s 41ms/step - loss: 3.2400e-05 - accuracy: 1.0000\n",
      "Epoch 356/500\n",
      "4/4 [==============================] - 0s 32ms/step - loss: 4.9210e-05 - accuracy: 1.0000\n",
      "Epoch 357/500\n",
      "4/4 [==============================] - 0s 34ms/step - loss: 3.5182e-05 - accuracy: 1.0000\n",
      "Epoch 358/500\n",
      "4/4 [==============================] - 0s 36ms/step - loss: 3.9105e-05 - accuracy: 1.0000\n",
      "Epoch 359/500\n",
      "4/4 [==============================] - 0s 33ms/step - loss: 3.4287e-05 - accuracy: 1.0000\n",
      "Epoch 360/500\n",
      "4/4 [==============================] - 0s 33ms/step - loss: 2.3399e-05 - accuracy: 1.0000\n",
      "Epoch 361/500\n",
      "4/4 [==============================] - 0s 32ms/step - loss: 2.8710e-05 - accuracy: 1.0000\n",
      "Epoch 362/500\n",
      "4/4 [==============================] - 0s 33ms/step - loss: 6.1582e-05 - accuracy: 1.0000\n",
      "Epoch 363/500\n",
      "4/4 [==============================] - 0s 36ms/step - loss: 4.6435e-05 - accuracy: 1.0000\n",
      "Epoch 364/500\n",
      "4/4 [==============================] - 0s 34ms/step - loss: 4.9101e-05 - accuracy: 1.0000\n",
      "Epoch 365/500\n",
      "4/4 [==============================] - 0s 33ms/step - loss: 1.9521e-05 - accuracy: 1.0000\n",
      "Epoch 366/500\n",
      "4/4 [==============================] - 0s 43ms/step - loss: 4.6083e-05 - accuracy: 1.0000\n",
      "Epoch 367/500\n",
      "4/4 [==============================] - 0s 35ms/step - loss: 1.7068e-05 - accuracy: 1.0000\n",
      "Epoch 368/500\n",
      "4/4 [==============================] - 0s 35ms/step - loss: 2.4601e-05 - accuracy: 1.0000\n",
      "Epoch 369/500\n",
      "4/4 [==============================] - 0s 34ms/step - loss: 4.2030e-05 - accuracy: 1.0000\n",
      "Epoch 370/500\n",
      "4/4 [==============================] - 0s 30ms/step - loss: 3.0026e-05 - accuracy: 1.0000\n",
      "Epoch 371/500\n",
      "4/4 [==============================] - 0s 33ms/step - loss: 3.0777e-05 - accuracy: 1.0000\n",
      "Epoch 372/500\n",
      "4/4 [==============================] - 0s 34ms/step - loss: 2.7734e-05 - accuracy: 1.0000\n",
      "Epoch 373/500\n",
      "4/4 [==============================] - 0s 32ms/step - loss: 2.4438e-05 - accuracy: 1.0000\n",
      "Epoch 374/500\n",
      "4/4 [==============================] - 0s 34ms/step - loss: 3.7086e-05 - accuracy: 1.0000\n",
      "Epoch 375/500\n",
      "4/4 [==============================] - 0s 31ms/step - loss: 2.6103e-05 - accuracy: 1.0000\n",
      "Epoch 376/500\n",
      "4/4 [==============================] - 0s 32ms/step - loss: 2.3301e-05 - accuracy: 1.0000\n",
      "Epoch 377/500\n",
      "4/4 [==============================] - 0s 49ms/step - loss: 3.5325e-05 - accuracy: 1.0000\n",
      "Epoch 378/500\n",
      "4/4 [==============================] - 0s 35ms/step - loss: 2.0856e-05 - accuracy: 1.0000\n",
      "Epoch 379/500\n",
      "4/4 [==============================] - 0s 31ms/step - loss: 2.5342e-05 - accuracy: 1.0000\n",
      "Epoch 380/500\n",
      "4/4 [==============================] - 0s 33ms/step - loss: 4.5458e-05 - accuracy: 1.0000\n",
      "Epoch 381/500\n",
      "4/4 [==============================] - 0s 33ms/step - loss: 2.6979e-05 - accuracy: 1.0000\n",
      "Epoch 382/500\n",
      "4/4 [==============================] - 0s 32ms/step - loss: 2.2052e-05 - accuracy: 1.0000\n",
      "Epoch 383/500\n",
      "4/4 [==============================] - 0s 32ms/step - loss: 5.2046e-05 - accuracy: 1.0000\n",
      "Epoch 384/500\n",
      "4/4 [==============================] - 0s 34ms/step - loss: 2.3756e-05 - accuracy: 1.0000\n",
      "Epoch 385/500\n",
      "4/4 [==============================] - 0s 31ms/step - loss: 3.0864e-05 - accuracy: 1.0000\n",
      "Epoch 386/500\n",
      "4/4 [==============================] - 0s 34ms/step - loss: 4.1801e-05 - accuracy: 1.0000\n",
      "Epoch 387/500\n",
      "4/4 [==============================] - 0s 33ms/step - loss: 2.2026e-05 - accuracy: 1.0000\n",
      "Epoch 388/500\n",
      "4/4 [==============================] - 0s 47ms/step - loss: 1.7095e-05 - accuracy: 1.0000\n",
      "Epoch 389/500\n",
      "4/4 [==============================] - 0s 28ms/step - loss: 3.3255e-05 - accuracy: 1.0000\n",
      "Epoch 390/500\n",
      "4/4 [==============================] - 0s 29ms/step - loss: 3.3254e-05 - accuracy: 1.0000\n",
      "Epoch 391/500\n",
      "4/4 [==============================] - 0s 33ms/step - loss: 3.0477e-05 - accuracy: 1.0000\n",
      "Epoch 392/500\n",
      "4/4 [==============================] - 0s 33ms/step - loss: 2.3873e-05 - accuracy: 1.0000\n",
      "Epoch 393/500\n",
      "4/4 [==============================] - 0s 32ms/step - loss: 2.4199e-05 - accuracy: 1.0000\n",
      "Epoch 394/500\n",
      "4/4 [==============================] - 0s 33ms/step - loss: 5.4523e-05 - accuracy: 1.0000\n",
      "Epoch 395/500\n",
      "4/4 [==============================] - 0s 34ms/step - loss: 3.5617e-05 - accuracy: 1.0000\n",
      "Epoch 396/500\n",
      "4/4 [==============================] - 0s 34ms/step - loss: 2.6143e-05 - accuracy: 1.0000\n",
      "Epoch 397/500\n",
      "4/4 [==============================] - 0s 34ms/step - loss: 2.1204e-05 - accuracy: 1.0000\n",
      "Epoch 398/500\n",
      "4/4 [==============================] - 0s 35ms/step - loss: 2.6766e-05 - accuracy: 1.0000\n",
      "Epoch 399/500\n",
      "4/4 [==============================] - 0s 42ms/step - loss: 3.7176e-05 - accuracy: 1.0000\n",
      "Epoch 400/500\n",
      "4/4 [==============================] - 0s 32ms/step - loss: 4.4914e-05 - accuracy: 1.0000\n",
      "Epoch 401/500\n",
      "4/4 [==============================] - 0s 33ms/step - loss: 4.4938e-05 - accuracy: 1.0000\n",
      "Epoch 402/500\n",
      "4/4 [==============================] - 0s 33ms/step - loss: 2.3034e-05 - accuracy: 1.0000\n",
      "Epoch 403/500\n",
      "4/4 [==============================] - 0s 30ms/step - loss: 2.3433e-05 - accuracy: 1.0000\n",
      "Epoch 404/500\n",
      "4/4 [==============================] - 0s 34ms/step - loss: 2.6151e-05 - accuracy: 1.0000\n",
      "Epoch 405/500\n",
      "4/4 [==============================] - 0s 34ms/step - loss: 4.1391e-05 - accuracy: 1.0000\n",
      "Epoch 406/500\n",
      "4/4 [==============================] - 0s 32ms/step - loss: 6.0710e-05 - accuracy: 1.0000\n",
      "Epoch 407/500\n",
      "4/4 [==============================] - 0s 33ms/step - loss: 1.7369e-05 - accuracy: 1.0000\n",
      "Epoch 408/500\n",
      "4/4 [==============================] - 0s 30ms/step - loss: 6.0831e-05 - accuracy: 1.0000\n",
      "Epoch 409/500\n",
      "4/4 [==============================] - 0s 43ms/step - loss: 2.0814e-05 - accuracy: 1.0000\n",
      "Epoch 410/500\n",
      "4/4 [==============================] - 0s 30ms/step - loss: 3.1488e-05 - accuracy: 1.0000\n",
      "Epoch 411/500\n",
      "4/4 [==============================] - 0s 35ms/step - loss: 6.0789e-05 - accuracy: 1.0000\n",
      "Epoch 412/500\n",
      "4/4 [==============================] - 0s 34ms/step - loss: 1.5119e-05 - accuracy: 1.0000\n",
      "Epoch 413/500\n",
      "4/4 [==============================] - 0s 32ms/step - loss: 4.5329e-05 - accuracy: 1.0000\n",
      "Epoch 414/500\n",
      "4/4 [==============================] - 0s 33ms/step - loss: 1.5576e-05 - accuracy: 1.0000\n",
      "Epoch 415/500\n",
      "4/4 [==============================] - 0s 34ms/step - loss: 1.4352e-05 - accuracy: 1.0000\n",
      "Epoch 416/500\n",
      "4/4 [==============================] - 0s 36ms/step - loss: 2.9631e-05 - accuracy: 1.0000\n",
      "Epoch 417/500\n",
      "4/4 [==============================] - 0s 31ms/step - loss: 2.0270e-05 - accuracy: 1.0000\n",
      "Epoch 418/500\n",
      "4/4 [==============================] - 0s 35ms/step - loss: 5.6180e-05 - accuracy: 1.0000\n",
      "Epoch 419/500\n",
      "4/4 [==============================] - 0s 34ms/step - loss: 5.2899e-05 - accuracy: 1.0000\n",
      "Epoch 420/500\n",
      "4/4 [==============================] - 0s 28ms/step - loss: 2.3796e-05 - accuracy: 1.0000\n",
      "Epoch 421/500\n",
      "4/4 [==============================] - 0s 39ms/step - loss: 2.8946e-05 - accuracy: 1.0000\n",
      "Epoch 422/500\n",
      "4/4 [==============================] - 0s 35ms/step - loss: 1.7446e-05 - accuracy: 1.0000\n",
      "Epoch 423/500\n",
      "4/4 [==============================] - 0s 33ms/step - loss: 2.1314e-05 - accuracy: 1.0000\n",
      "Epoch 424/500\n",
      "4/4 [==============================] - 0s 33ms/step - loss: 2.0194e-05 - accuracy: 1.0000\n",
      "Epoch 425/500\n",
      "4/4 [==============================] - 0s 46ms/step - loss: 2.5054e-05 - accuracy: 1.0000\n",
      "Epoch 426/500\n",
      "4/4 [==============================] - 0s 46ms/step - loss: 2.9042e-05 - accuracy: 1.0000\n",
      "Epoch 427/500\n",
      "4/4 [==============================] - 0s 38ms/step - loss: 2.6956e-05 - accuracy: 1.0000\n",
      "Epoch 428/500\n",
      "4/4 [==============================] - 0s 35ms/step - loss: 2.0540e-05 - accuracy: 1.0000\n",
      "Epoch 429/500\n",
      "4/4 [==============================] - 0s 34ms/step - loss: 1.4057e-05 - accuracy: 1.0000\n",
      "Epoch 430/500\n",
      "4/4 [==============================] - 0s 42ms/step - loss: 3.6367e-05 - accuracy: 1.0000\n",
      "Epoch 431/500\n",
      "4/4 [==============================] - 0s 34ms/step - loss: 1.8658e-05 - accuracy: 1.0000\n",
      "Epoch 432/500\n",
      "4/4 [==============================] - 0s 34ms/step - loss: 1.6883e-05 - accuracy: 1.0000\n",
      "Epoch 433/500\n",
      "4/4 [==============================] - 0s 34ms/step - loss: 1.8309e-05 - accuracy: 1.0000\n",
      "Epoch 434/500\n",
      "4/4 [==============================] - 0s 34ms/step - loss: 3.2506e-05 - accuracy: 1.0000\n",
      "Epoch 435/500\n",
      "4/4 [==============================] - 0s 34ms/step - loss: 2.5721e-05 - accuracy: 1.0000\n",
      "Epoch 436/500\n",
      "4/4 [==============================] - 0s 35ms/step - loss: 1.8293e-05 - accuracy: 1.0000\n",
      "Epoch 437/500\n",
      "4/4 [==============================] - 0s 32ms/step - loss: 1.0812e-05 - accuracy: 1.0000\n",
      "Epoch 438/500\n",
      "4/4 [==============================] - 0s 35ms/step - loss: 1.5436e-05 - accuracy: 1.0000\n",
      "Epoch 439/500\n",
      "4/4 [==============================] - 0s 37ms/step - loss: 1.0992e-05 - accuracy: 1.0000\n",
      "Epoch 440/500\n",
      "4/4 [==============================] - 0s 29ms/step - loss: 2.5361e-05 - accuracy: 1.0000\n",
      "Epoch 441/500\n",
      "4/4 [==============================] - 0s 42ms/step - loss: 2.7863e-05 - accuracy: 1.0000\n",
      "Epoch 442/500\n",
      "4/4 [==============================] - 0s 35ms/step - loss: 1.9778e-05 - accuracy: 1.0000\n",
      "Epoch 443/500\n",
      "4/4 [==============================] - 0s 35ms/step - loss: 3.7278e-05 - accuracy: 1.0000\n",
      "Epoch 444/500\n",
      "4/4 [==============================] - 0s 33ms/step - loss: 1.9205e-05 - accuracy: 1.0000\n",
      "Epoch 445/500\n",
      "4/4 [==============================] - 0s 33ms/step - loss: 1.3355e-05 - accuracy: 1.0000\n",
      "Epoch 446/500\n",
      "4/4 [==============================] - 0s 34ms/step - loss: 1.7713e-05 - accuracy: 1.0000\n",
      "Epoch 447/500\n",
      "4/4 [==============================] - 0s 37ms/step - loss: 1.3014e-05 - accuracy: 1.0000\n",
      "Epoch 448/500\n",
      "4/4 [==============================] - 0s 34ms/step - loss: 3.3459e-05 - accuracy: 1.0000\n",
      "Epoch 449/500\n",
      "4/4 [==============================] - 0s 34ms/step - loss: 2.8776e-05 - accuracy: 1.0000\n",
      "Epoch 450/500\n",
      "4/4 [==============================] - 0s 43ms/step - loss: 2.5140e-05 - accuracy: 1.0000\n",
      "Epoch 451/500\n",
      "4/4 [==============================] - 0s 34ms/step - loss: 6.8198e-05 - accuracy: 1.0000\n",
      "Epoch 452/500\n",
      "4/4 [==============================] - 0s 34ms/step - loss: 2.5368e-05 - accuracy: 1.0000\n",
      "Epoch 453/500\n",
      "4/4 [==============================] - 0s 31ms/step - loss: 2.7845e-05 - accuracy: 1.0000\n",
      "Epoch 454/500\n",
      "4/4 [==============================] - 0s 35ms/step - loss: 1.7419e-05 - accuracy: 1.0000\n",
      "Epoch 455/500\n",
      "4/4 [==============================] - 0s 34ms/step - loss: 1.7668e-05 - accuracy: 1.0000\n",
      "Epoch 456/500\n",
      "4/4 [==============================] - 0s 30ms/step - loss: 2.5760e-05 - accuracy: 1.0000\n",
      "Epoch 457/500\n",
      "4/4 [==============================] - 0s 34ms/step - loss: 1.9593e-05 - accuracy: 1.0000\n",
      "Epoch 458/500\n",
      "4/4 [==============================] - 0s 34ms/step - loss: 3.4109e-05 - accuracy: 1.0000\n",
      "Epoch 459/500\n",
      "4/4 [==============================] - 0s 36ms/step - loss: 1.5800e-05 - accuracy: 1.0000\n",
      "Epoch 460/500\n",
      "4/4 [==============================] - 0s 31ms/step - loss: 8.7826e-05 - accuracy: 1.0000\n",
      "Epoch 461/500\n",
      "4/4 [==============================] - 0s 34ms/step - loss: 1.7664e-05 - accuracy: 1.0000\n",
      "Epoch 462/500\n",
      "4/4 [==============================] - 0s 39ms/step - loss: 1.6687e-05 - accuracy: 1.0000\n",
      "Epoch 463/500\n",
      "4/4 [==============================] - 0s 31ms/step - loss: 1.5028e-05 - accuracy: 1.0000\n",
      "Epoch 464/500\n",
      "4/4 [==============================] - 0s 30ms/step - loss: 1.6672e-05 - accuracy: 1.0000\n",
      "Epoch 465/500\n",
      "4/4 [==============================] - 0s 30ms/step - loss: 2.4149e-05 - accuracy: 1.0000\n",
      "Epoch 466/500\n",
      "4/4 [==============================] - 0s 34ms/step - loss: 1.6382e-05 - accuracy: 1.0000\n",
      "Epoch 467/500\n",
      "4/4 [==============================] - 0s 31ms/step - loss: 1.3333e-05 - accuracy: 1.0000\n",
      "Epoch 468/500\n",
      "4/4 [==============================] - 0s 40ms/step - loss: 1.6131e-05 - accuracy: 1.0000\n",
      "Epoch 469/500\n",
      "4/4 [==============================] - 0s 30ms/step - loss: 2.7746e-05 - accuracy: 1.0000\n",
      "Epoch 470/500\n",
      "4/4 [==============================] - 0s 34ms/step - loss: 1.6209e-05 - accuracy: 1.0000\n",
      "Epoch 471/500\n",
      "4/4 [==============================] - 0s 42ms/step - loss: 2.0522e-05 - accuracy: 1.0000\n",
      "Epoch 472/500\n",
      "4/4 [==============================] - 0s 33ms/step - loss: 1.5246e-05 - accuracy: 1.0000\n",
      "Epoch 473/500\n",
      "4/4 [==============================] - 0s 35ms/step - loss: 1.0785e-05 - accuracy: 1.0000\n",
      "Epoch 474/500\n",
      "4/4 [==============================] - 0s 33ms/step - loss: 9.1213e-06 - accuracy: 1.0000\n",
      "Epoch 475/500\n",
      "4/4 [==============================] - 0s 32ms/step - loss: 2.5695e-05 - accuracy: 1.0000\n",
      "Epoch 476/500\n",
      "4/4 [==============================] - 0s 35ms/step - loss: 1.4715e-05 - accuracy: 1.0000\n",
      "Epoch 477/500\n",
      "4/4 [==============================] - 0s 30ms/step - loss: 2.4270e-05 - accuracy: 1.0000\n",
      "Epoch 478/500\n",
      "4/4 [==============================] - 0s 33ms/step - loss: 1.9152e-05 - accuracy: 1.0000\n",
      "Epoch 479/500\n",
      "4/4 [==============================] - 0s 33ms/step - loss: 2.2678e-05 - accuracy: 1.0000\n",
      "Epoch 480/500\n",
      "4/4 [==============================] - 0s 36ms/step - loss: 1.9050e-05 - accuracy: 1.0000\n",
      "Epoch 481/500\n",
      "4/4 [==============================] - 0s 36ms/step - loss: 1.5454e-05 - accuracy: 1.0000\n",
      "Epoch 482/500\n",
      "4/4 [==============================] - 0s 39ms/step - loss: 1.7247e-05 - accuracy: 1.0000\n",
      "Epoch 483/500\n",
      "4/4 [==============================] - 0s 30ms/step - loss: 1.1377e-05 - accuracy: 1.0000\n",
      "Epoch 484/500\n",
      "4/4 [==============================] - 0s 35ms/step - loss: 1.7521e-05 - accuracy: 1.0000\n",
      "Epoch 485/500\n",
      "4/4 [==============================] - 0s 33ms/step - loss: 1.5353e-05 - accuracy: 1.0000\n",
      "Epoch 486/500\n",
      "4/4 [==============================] - 0s 34ms/step - loss: 1.9055e-05 - accuracy: 1.0000\n",
      "Epoch 487/500\n",
      "4/4 [==============================] - 0s 31ms/step - loss: 1.3752e-05 - accuracy: 1.0000\n",
      "Epoch 488/500\n",
      "4/4 [==============================] - 0s 34ms/step - loss: 2.3896e-05 - accuracy: 1.0000\n",
      "Epoch 489/500\n",
      "4/4 [==============================] - 0s 30ms/step - loss: 1.3595e-05 - accuracy: 1.0000\n",
      "Epoch 490/500\n",
      "4/4 [==============================] - 0s 33ms/step - loss: 1.9428e-05 - accuracy: 1.0000\n",
      "Epoch 491/500\n",
      "4/4 [==============================] - 0s 33ms/step - loss: 1.7527e-05 - accuracy: 1.0000\n",
      "Epoch 492/500\n",
      "4/4 [==============================] - 0s 45ms/step - loss: 9.3616e-06 - accuracy: 1.0000\n",
      "Epoch 493/500\n",
      "4/4 [==============================] - 0s 30ms/step - loss: 2.5521e-05 - accuracy: 1.0000\n",
      "Epoch 494/500\n",
      "4/4 [==============================] - 0s 31ms/step - loss: 1.8702e-05 - accuracy: 1.0000\n",
      "Epoch 495/500\n",
      "4/4 [==============================] - 0s 30ms/step - loss: 1.6663e-05 - accuracy: 1.0000\n",
      "Epoch 496/500\n",
      "4/4 [==============================] - 0s 31ms/step - loss: 1.1442e-05 - accuracy: 1.0000\n",
      "Epoch 497/500\n",
      "4/4 [==============================] - 0s 34ms/step - loss: 1.6928e-05 - accuracy: 1.0000\n",
      "Epoch 498/500\n",
      "4/4 [==============================] - 0s 31ms/step - loss: 1.7518e-05 - accuracy: 1.0000\n",
      "Epoch 499/500\n",
      "4/4 [==============================] - 0s 33ms/step - loss: 2.7273e-05 - accuracy: 1.0000\n",
      "Epoch 500/500\n",
      "4/4 [==============================] - 0s 32ms/step - loss: 1.5048e-05 - accuracy: 1.0000\n"
     ]
    }
   ],
   "source": [
    "history=model.fit(x_train,y_train,epochs=500,batch_size=36,verbose=1)"
   ]
  },
  {
   "cell_type": "code",
   "execution_count": 31,
   "id": "426330f2",
   "metadata": {},
   "outputs": [
    {
     "data": {
      "text/plain": [
       "dict_keys(['loss', 'accuracy'])"
      ]
     },
     "execution_count": 31,
     "metadata": {},
     "output_type": "execute_result"
    }
   ],
   "source": [
    "history.history.keys()"
   ]
  },
  {
   "cell_type": "code",
   "execution_count": 32,
   "id": "eba36fd2",
   "metadata": {},
   "outputs": [
    {
     "data": {
      "image/png": "[encoded data removed]",
      "text/plain": [
       "<Figure size 640x480 with 1 Axes>"
      ]
     },
     "metadata": {},
     "output_type": "display_data"
    }
   ],
   "source": [
    "plt.plot(np.array(history.history['loss']), \"r--\", label = \"Train loss\")\n",
    "plt.plot(np.array(history.history['accuracy']), \"g--\", label = \"Train accuracy\")\n",
    "#plt.plot(np.array(history.history['val_loss']), \"r-\", label = \"Validation loss\")\n",
    "#plt.plot(np.array(history.history['val_accuracy']), \"g-\", label = \"Validation accuracy\")\n",
    "plt.title(\"Training session's progress over iterations\")\n",
    "plt.legend(loc='lower left')\n",
    "plt.ylabel('Training Progress (Loss/Accuracy)')\n",
    "plt.xlabel('Training Epoch')\n",
    "plt.ylim(0) \n",
    "plt.show()"
   ]
  },
  {
   "cell_type": "code",
   "execution_count": 33,
   "id": "7d004737",
   "metadata": {},
   "outputs": [
    {
     "name": "stdout",
     "output_type": "stream",
     "text": [
      "Model: \"sequential\"\n",
      "_________________________________________________________________\n",
      " Layer (type)                Output Shape              Param #   \n",
      "=================================================================\n",
      " lstm (LSTM)                 (None, 128)               130560    \n",
      "                                                                 \n",
      " dropout (Dropout)           (None, 128)               0         \n",
      "                                                                 \n",
      " dense (Dense)               (None, 64)                8256      \n",
      "                                                                 \n",
      " dense_1 (Dense)             (None, 5)                 325       \n",
      "                                                                 \n",
      "=================================================================\n",
      "Total params: 139141 (543.52 KB)\n",
      "Trainable params: 139141 (543.52 KB)\n",
      "Non-trainable params: 0 (0.00 Byte)\n",
      "_________________________________________________________________\n"
     ]
    }
   ],
   "source": [
    "model.summary()"
   ]
  },
  {
   "cell_type": "markdown",
   "id": "585a56c6",
   "metadata": {},
   "source": [
    "Predict"
   ]
  },
  {
   "cell_type": "code",
   "execution_count": 63,
   "id": "66d0e9d0-8ea6-43c6-ada5-248d83b64ff0",
   "metadata": {},
   "outputs": [],
   "source": [
    "dtest=np.array(read_json(f\"{PROJECT_PATH}/dtest/dtest.json\"))\n"
   ]
  },
  {
   "cell_type": "code",
   "execution_count": 66,
   "id": "ed061efe-3bbf-49fe-823f-52f218ef2de1",
   "metadata": {},
   "outputs": [
    {
     "name": "stdout",
     "output_type": "stream",
     "text": [
      "1/1 [==============================] - 0s 36ms/step\n"
     ]
    },
    {
     "data": {
      "text/plain": [
       "'swipe-down'"
      ]
     },
     "execution_count": 66,
     "metadata": {},
     "output_type": "execute_result"
    }
   ],
   "source": [
    "gesture_list[np.argmax(model.predict(dtest))]"
   ]
  },
  {
   "cell_type": "code",
   "execution_count": 34,
   "id": "64ad3363",
   "metadata": {},
   "outputs": [
    {
     "name": "stdout",
     "output_type": "stream",
     "text": [
      "1/1 [==============================] - 1s 636ms/step\n"
     ]
    }
   ],
   "source": [
    "res=model.predict(x_test)"
   ]
  },
  {
   "cell_type": "code",
   "execution_count": 35,
   "id": "e38b4142",
   "metadata": {},
   "outputs": [
    {
     "data": {
      "text/plain": [
       "31"
      ]
     },
     "execution_count": 35,
     "metadata": {},
     "output_type": "execute_result"
    }
   ],
   "source": [
    "len(res)"
   ]
  },
  {
   "cell_type": "code",
   "execution_count": 36,
   "id": "2df374ab",
   "metadata": {},
   "outputs": [
    {
     "data": {
      "text/plain": [
       "136"
      ]
     },
     "execution_count": 36,
     "metadata": {},
     "output_type": "execute_result"
    }
   ],
   "source": [
    "np.argmax(res)"
   ]
  },
  {
   "cell_type": "code",
   "execution_count": 37,
   "id": "054faab6",
   "metadata": {},
   "outputs": [
    {
     "data": {
      "text/plain": [
       "1.0"
      ]
     },
     "execution_count": 37,
     "metadata": {},
     "output_type": "execute_result"
    }
   ],
   "source": [
    "np.sum(res[1])"
   ]
  },
  {
   "cell_type": "code",
   "execution_count": 38,
   "id": "1cf3f71b",
   "metadata": {},
   "outputs": [
    {
     "data": {
      "text/plain": [
       "array([[9.2322708e-08, 4.4259480e-07, 5.5573892e-09, 1.9454255e-06,\n",
       "        9.9999744e-01],\n",
       "       [1.7009432e-07, 2.0483155e-07, 8.4983509e-07, 9.9999839e-01,\n",
       "        4.0074210e-07],\n",
       "       [2.9509732e-07, 5.3766718e-07, 9.9999851e-01, 5.4683102e-07,\n",
       "        4.5627235e-08],\n",
       "       [3.0089404e-07, 5.5363046e-07, 9.9999851e-01, 5.5433946e-07,\n",
       "        4.6660276e-08],\n",
       "       [3.7780774e-07, 9.9999899e-01, 3.4050385e-07, 2.3616677e-08,\n",
       "        1.7918308e-07],\n",
       "       [9.9999851e-01, 6.3600868e-07, 5.5188934e-07, 3.7087393e-08,\n",
       "        2.0967401e-07],\n",
       "       [2.9993390e-07, 9.9999911e-01, 3.2665810e-07, 2.3101169e-08,\n",
       "        1.5976426e-07],\n",
       "       [9.4894837e-08, 4.6972971e-07, 5.1132374e-09, 1.8373394e-06,\n",
       "        9.9999756e-01],\n",
       "       [4.0803954e-07, 9.9999899e-01, 3.6297536e-07, 2.7132229e-08,\n",
       "        2.0739583e-07],\n",
       "       [9.9999839e-01, 6.9201496e-07, 5.6121729e-07, 4.0324917e-08,\n",
       "        2.2585102e-07],\n",
       "       [2.9715892e-07, 5.1343773e-07, 9.9999863e-01, 5.0622151e-07,\n",
       "        3.7670503e-08],\n",
       "       [9.9999863e-01, 5.5214997e-07, 5.1491025e-07, 3.1835942e-08,\n",
       "        1.8448412e-07],\n",
       "       [1.0093259e-07, 5.0771627e-07, 5.1561426e-09, 1.8610228e-06,\n",
       "        9.9999744e-01],\n",
       "       [1.6345631e-07, 2.1315712e-07, 7.7453524e-07, 9.9999839e-01,\n",
       "        3.7864507e-07],\n",
       "       [6.1018130e-07, 9.9999863e-01, 3.9494412e-07, 3.5151366e-08,\n",
       "        3.8148318e-07],\n",
       "       [9.9999839e-01, 7.2779039e-07, 5.9858752e-07, 4.3608779e-08,\n",
       "        2.3920185e-07],\n",
       "       [8.9201407e-08, 4.3765834e-07, 5.3841362e-09, 1.9238757e-06,\n",
       "        9.9999744e-01],\n",
       "       [3.0964449e-07, 5.4453659e-07, 9.9999863e-01, 5.1936013e-07,\n",
       "        3.9301270e-08],\n",
       "       [3.1284094e-07, 5.8020697e-07, 9.9999851e-01, 5.6936091e-07,\n",
       "        4.8342027e-08],\n",
       "       [3.0436775e-07, 5.2785037e-07, 9.9999863e-01, 5.1144627e-07,\n",
       "        3.8325158e-08],\n",
       "       [9.9999851e-01, 6.3804936e-07, 5.6107660e-07, 3.7120301e-08,\n",
       "        2.0988968e-07],\n",
       "       [9.9999839e-01, 6.8064270e-07, 5.5571672e-07, 3.9178740e-08,\n",
       "        2.2154478e-07],\n",
       "       [2.9841638e-07, 5.4896498e-07, 9.9999851e-01, 5.5177674e-07,\n",
       "        4.6538688e-08],\n",
       "       [9.9208705e-08, 4.9750849e-07, 5.1625397e-09, 1.8399537e-06,\n",
       "        9.9999756e-01],\n",
       "       [9.9999857e-01, 6.3963040e-07, 5.6006735e-07, 3.7501103e-08,\n",
       "        2.1256845e-07],\n",
       "       [9.9999857e-01, 6.4551944e-07, 5.4094596e-07, 3.7149839e-08,\n",
       "        2.1099753e-07],\n",
       "       [1.6277622e-07, 2.0542588e-07, 7.8760479e-07, 9.9999845e-01,\n",
       "        4.0155621e-07],\n",
       "       [3.3715656e-07, 9.9999917e-01, 3.1971217e-07, 2.3893381e-08,\n",
       "        1.7563279e-07],\n",
       "       [9.9999893e-01, 4.7693737e-07, 4.3450331e-07, 2.7410090e-08,\n",
       "        1.5738318e-07],\n",
       "       [1.5290712e-07, 1.9610270e-07, 7.5635086e-07, 9.9999857e-01,\n",
       "        3.6128955e-07],\n",
       "       [9.5586579e-08, 4.6513551e-07, 5.2830504e-09, 1.8973393e-06,\n",
       "        9.9999750e-01]], dtype=float32)"
      ]
     },
     "execution_count": 38,
     "metadata": {},
     "output_type": "execute_result"
    }
   ],
   "source": [
    "res"
   ]
  },
  {
   "cell_type": "code",
   "execution_count": 39,
   "id": "f8e7bb39",
   "metadata": {},
   "outputs": [
    {
     "data": {
      "text/plain": [
       "'swipe-down'"
      ]
     },
     "execution_count": 39,
     "metadata": {},
     "output_type": "execute_result"
    }
   ],
   "source": [
    "gesture_list[np.argmax(res[1])]"
   ]
  },
  {
   "cell_type": "code",
   "execution_count": 40,
   "id": "3e9b4887-6898-4d4d-a6bd-3ec9168918a6",
   "metadata": {},
   "outputs": [
    {
     "data": {
      "text/plain": [
       "'swipe-down'"
      ]
     },
     "execution_count": 40,
     "metadata": {},
     "output_type": "execute_result"
    }
   ],
   "source": [
    "gestures[np.argmax(y_test[1])]"
   ]
  },
  {
   "cell_type": "code",
   "execution_count": 41,
   "id": "12b92828",
   "metadata": {},
   "outputs": [
    {
     "data": {
      "text/plain": [
       "'grab'"
      ]
     },
     "execution_count": 41,
     "metadata": {},
     "output_type": "execute_result"
    }
   ],
   "source": [
    "gestures[np.argmax(res[0])]"
   ]
  },
  {
   "cell_type": "code",
   "execution_count": 42,
   "id": "2427f52b",
   "metadata": {},
   "outputs": [
    {
     "data": {
      "text/plain": [
       "'grab'"
      ]
     },
     "execution_count": 42,
     "metadata": {},
     "output_type": "execute_result"
    }
   ],
   "source": [
    "gestures[np.argmax(y_test[0])]"
   ]
  },
  {
   "cell_type": "markdown",
   "id": "0e9305be",
   "metadata": {},
   "source": [
    "Save weights\n"
   ]
  },
  {
   "cell_type": "code",
   "execution_count": 44,
   "id": "9d69f74c",
   "metadata": {},
   "outputs": [],
   "source": [
    "model.save('gesture_model.h5')"
   ]
  },
  {
   "cell_type": "markdown",
   "id": "ebef4d73",
   "metadata": {},
   "source": [
    "Model Evaluation"
   ]
  },
  {
   "cell_type": "code",
   "execution_count": 45,
   "id": "24bb7b1f",
   "metadata": {},
   "outputs": [],
   "source": [
    "from sklearn.metrics import multilabel_confusion_matrix, accuracy_score"
   ]
  },
  {
   "cell_type": "code",
   "execution_count": 46,
   "id": "6b0c9096",
   "metadata": {},
   "outputs": [
    {
     "name": "stdout",
     "output_type": "stream",
     "text": [
      "1/1 [==============================] - 0s 56ms/step\n"
     ]
    }
   ],
   "source": [
    "ypred=model.predict(x_test)"
   ]
  },
  {
   "cell_type": "code",
   "execution_count": 47,
   "id": "47f6fbea-fb04-465a-8b93-f8d5325093b2",
   "metadata": {},
   "outputs": [
    {
     "data": {
      "text/plain": [
       "array([9.2322708e-08, 4.4259480e-07, 5.5573892e-09, 1.9454255e-06,\n",
       "       9.9999744e-01], dtype=float32)"
      ]
     },
     "execution_count": 47,
     "metadata": {},
     "output_type": "execute_result"
    }
   ],
   "source": [
    "ypred[0]"
   ]
  },
  {
   "cell_type": "code",
   "execution_count": 48,
   "id": "728d6fcc",
   "metadata": {},
   "outputs": [],
   "source": [
    "ytrue=np.argmax(y_test,axis=1).tolist()\n",
    "ypred=np.argmax(ypred,axis=1).tolist()"
   ]
  },
  {
   "cell_type": "code",
   "execution_count": 49,
   "id": "a1f4d306",
   "metadata": {
    "scrolled": true
   },
   "outputs": [
    {
     "name": "stdout",
     "output_type": "stream",
     "text": [
      "[[4 4]\n",
      " [3 3]\n",
      " [2 2]\n",
      " [2 2]\n",
      " [1 1]\n",
      " [0 0]\n",
      " [1 1]\n",
      " [4 4]\n",
      " [1 1]\n",
      " [0 0]\n",
      " [2 2]\n",
      " [0 0]\n",
      " [4 4]\n",
      " [3 3]\n",
      " [1 1]\n",
      " [0 0]\n",
      " [4 4]\n",
      " [2 2]\n",
      " [2 2]\n",
      " [2 2]\n",
      " [0 0]\n",
      " [0 0]\n",
      " [2 2]\n",
      " [4 4]\n",
      " [0 0]\n",
      " [0 0]\n",
      " [3 3]\n",
      " [1 1]\n",
      " [0 0]\n",
      " [3 3]\n",
      " [4 4]]\n"
     ]
    }
   ],
   "source": [
    "actual=np.array(ytrue)\n",
    "predictions=np.array(ypred)\n",
    "result = np.column_stack((actual, predictions))\n",
    "print(result)"
   ]
  },
  {
   "cell_type": "code",
   "execution_count": 51,
   "id": "500b5597",
   "metadata": {
    "scrolled": true
   },
   "outputs": [
    {
     "data": {
      "text/plain": [
       "array([[[22,  0],\n",
       "        [ 0,  9]],\n",
       "\n",
       "       [[26,  0],\n",
       "        [ 0,  5]],\n",
       "\n",
       "       [[24,  0],\n",
       "        [ 0,  7]],\n",
       "\n",
       "       [[27,  0],\n",
       "        [ 0,  4]],\n",
       "\n",
       "       [[25,  0],\n",
       "        [ 0,  6]]])"
      ]
     },
     "execution_count": 51,
     "metadata": {},
     "output_type": "execute_result"
    }
   ],
   "source": [
    "multilabel_confusion_matrix(ytrue,ypred)"
   ]
  },
  {
   "cell_type": "code",
   "execution_count": 164,
   "id": "0fd91126-bc0f-405a-91f6-cf888f63fc9c",
   "metadata": {},
   "outputs": [
    {
     "ename": "NameError",
     "evalue": "name 'tt' is not defined",
     "output_type": "error",
     "traceback": [
      "\u001b[0;31m---------------------------------------------------------------------------\u001b[0m",
      "\u001b[0;31mNameError\u001b[0m                                 Traceback (most recent call last)",
      "Cell \u001b[0;32mIn[164], line 1\u001b[0m\n\u001b[0;32m----> 1\u001b[0m res\u001b[38;5;241m=\u001b[39mmodel\u001b[38;5;241m.\u001b[39mpredict([\u001b[43mtt\u001b[49m])\n\u001b[1;32m      2\u001b[0m \u001b[38;5;28mprint\u001b[39m(res[\u001b[38;5;241m0\u001b[39m])\n",
      "\u001b[0;31mNameError\u001b[0m: name 'tt' is not defined"
     ]
    }
   ],
   "source": [
    "res=model.predict([tt])\n",
    "print(res[0])\n"
   ]
  },
  {
   "cell_type": "code",
   "execution_count": 52,
   "id": "d0965ee9",
   "metadata": {},
   "outputs": [
    {
     "data": {
      "text/plain": [
       "1.0"
      ]
     },
     "execution_count": 52,
     "metadata": {},
     "output_type": "execute_result"
    }
   ],
   "source": [
    "accuracy_score(ytrue,ypred)"
   ]
  },
  {
   "cell_type": "code",
   "execution_count": 53,
   "id": "7d920df7",
   "metadata": {},
   "outputs": [
    {
     "name": "stdout",
     "output_type": "stream",
     "text": [
      "1/1 [==============================] - 1s 748ms/step - loss: 1.5536e-06 - accuracy: 1.0000\n",
      "Test Accuracy : 1.0\n",
      "Test Loss : 1.5535648572040373e-06\n"
     ]
    }
   ],
   "source": [
    "loss, accuracy = model.evaluate(x_test, y_test, verbose = 1)\n",
    "print(\"Test Accuracy :\", accuracy)\n",
    "print(\"Test Loss :\", loss)"
   ]
  },
  {
   "cell_type": "code",
   "execution_count": 55,
   "id": "04786350",
   "metadata": {},
   "outputs": [
    {
     "name": "stdout",
     "output_type": "stream",
     "text": [
      "1/1 [==============================] - 0s 29ms/step\n"
     ]
    },
    {
     "data": {
      "image/png": "[encoded data removed]",
      "text/plain": [
       "<Figure size 640x480 with 2 Axes>"
      ]
     },
     "metadata": {},
     "output_type": "display_data"
    }
   ],
   "source": [
    "from sklearn.metrics import confusion_matrix\n",
    "import seaborn as sns\n",
    "\n",
    "predictions = model.predict(x_test[0:10])\n",
    "max_test = np.argmax(y_test[0:10], axis=1)\n",
    "max_predictions = np.argmax(predictions, axis=1)\n",
    "confusion_matrix = confusion_matrix(max_test, max_predictions)\n",
    "sns.heatmap(confusion_matrix, xticklabels = gestures[0:10], yticklabels = gestures[0:10], annot = True, linewidths = 0.1, fmt='d', cmap = 'YlGnBu')\n",
    "plt.title(\"Confusion matrix\", fontsize = 15)\n",
    "plt.ylabel('True label')\n",
    "plt.xlabel('Predicted label')\n",
    "plt.show()"
   ]
  },
  {
   "cell_type": "code",
   "execution_count": null,
   "id": "903a564e-1282-4fdc-af73-753b04488347",
   "metadata": {},
   "outputs": [],
   "source": []
  },
  {
   "cell_type": "code",
   "execution_count": null,
   "id": "d4368635-1bab-4029-a22a-5eae3c8a72e4",
   "metadata": {},
   "outputs": [],
   "source": []
  }
 ],
 "metadata": {
  "kernelspec": {
   "display_name": "Python (env)",
   "language": "python",
   "name": "env"
  },
  "language_info": {
   "codemirror_mode": {
    "name": "ipython",
    "version": 3
   },
   "file_extension": ".py",
   "mimetype": "text/x-python",
   "name": "python",
   "nbconvert_exporter": "python",
   "pygments_lexer": "ipython3",
   "version": "3.11.5"
  }
 },
 "nbformat": 4,
 "nbformat_minor": 5
}
